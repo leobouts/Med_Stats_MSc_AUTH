{
 "cells": [
  {
   "cell_type": "code",
   "execution_count": 1,
   "id": "1ad46f84",
   "metadata": {},
   "outputs": [],
   "source": [
    "%reload_ext sql"
   ]
  },
  {
   "cell_type": "code",
   "execution_count": 2,
   "id": "58c3ad97",
   "metadata": {},
   "outputs": [],
   "source": [
    "# Connect to the MIMIC database\n",
    "%sql sqlite://///Users/leonidas/Desktop/AUTH_HealthData/Scripts/SQL_HSDA/mimic3.db"
   ]
  },
  {
   "cell_type": "markdown",
   "id": "8b0041b5",
   "metadata": {
    "slideshow": {
     "slide_type": "-"
    }
   },
   "source": [
    "# What is join? How are the tables joining?\n",
    "\n",
    "- So far we have used a single table to extract information, count, add, calculate averages and so on.\n",
    "- In real life we usually need to query multiple tables which have relationships. But what type of relationship this could it be? \n",
    "- Tables in relational databases are linked through primary keys and sometimes other fields that are common to multiple tables, as it is in our database. \n",
    "\n",
    "- An execution of a JOIN is used to combine rows from two or more tables, based on a related column between them."
   ]
  },
  {
   "cell_type": "markdown",
   "id": "9441a32a",
   "metadata": {
    "slideshow": {
     "slide_type": "slide"
    }
   },
   "source": [
    "\n",
    "\n",
    "## INNER JOIN\n",
    "\n",
    "> INNER JOIN selects records that have matching values in both tables\n",
    "\n",
    "The syntax is as follows:\n",
    "\n",
    "`SELECT table1.columnX, table2.columnY FROM table1 INNER JOIN table2 ON table1.column_name=table2.column_name` \n",
    "\n",
    "> **In case columnX and columnY appear only to one table there is no need to specify the table name within the definition of the column.**     "
   ]
  },
  {
   "cell_type": "markdown",
   "id": "9915ae73",
   "metadata": {
    "slideshow": {
     "slide_type": "slide"
    }
   },
   "source": [
    "<img src=\"joins.png\">"
   ]
  },
  {
   "cell_type": "markdown",
   "id": "23ac8ee1",
   "metadata": {
    "slideshow": {
     "slide_type": "slide"
    }
   },
   "source": [
    "Let's give an example to make things clearer. Take a look of the **icustays** table:\n",
    "- There are (among others) the fields **subject_id** and **intime** where are representing the patient id and the time the person entered the hospital.\n",
    "- Now take a look at **patients** table. It also include **subject_id** and also a field **dob** (date of birth). \n",
    "- Let's try to inner join these two tables to find out the age of the patients when they entered the hospital.\n",
    "\n"
   ]
  },
  {
   "cell_type": "markdown",
   "id": "b3d64be2",
   "metadata": {
    "slideshow": {
     "slide_type": "slide"
    }
   },
   "source": [
    "We are going to do it by joining the two tables on the subject_id fields of those:\n"
   ]
  },
  {
   "cell_type": "code",
   "execution_count": 11,
   "id": "1a94bf62",
   "metadata": {
    "slideshow": {
     "slide_type": "fragment"
    }
   },
   "outputs": [
    {
     "name": "stdout",
     "output_type": "stream",
     "text": [
      " * sqlite://///Users/leonidas/Desktop/AUTH_HealthData/Scripts/SQL_HSDA/mimic3.db\n",
      "Done.\n"
     ]
    },
    {
     "data": {
      "text/html": [
       "<table>\n",
       "    <tr>\n",
       "        <th>AVG(value)</th>\n",
       "    </tr>\n",
       "    <tr>\n",
       "        <td>27.01475409836065</td>\n",
       "    </tr>\n",
       "</table>"
      ],
      "text/plain": [
       "[(27.01475409836065,)]"
      ]
     },
     "execution_count": 11,
     "metadata": {},
     "output_type": "execute_result"
    }
   ],
   "source": [
    "%sql SELECT AVG(value) FROM labevents \\\n",
    "INNER JOIN d_labitems  \\\n",
    "ON labevents.itemid = d_labitems.itemid WHERE labevents.subject_id=42281 AND label='Hematocrit';"
   ]
  },
  {
   "cell_type": "code",
   "execution_count": 23,
   "id": "thrown-kuwait",
   "metadata": {
    "scrolled": true
   },
   "outputs": [
    {
     "name": "stdout",
     "output_type": "stream",
     "text": [
      " * sqlite://///Users/leonidas/Desktop/AUTH_HealthData/Scripts/SQL_HSDA/mimic3.db\n",
      "Done.\n"
     ]
    },
    {
     "data": {
      "text/html": [
       "<table>\n",
       "    <tr>\n",
       "        <th>row_id</th>\n",
       "        <th>subject_id</th>\n",
       "        <th>gender</th>\n",
       "        <th>dob</th>\n",
       "        <th>dod</th>\n",
       "        <th>dod_hosp</th>\n",
       "        <th>dod_ssn</th>\n",
       "        <th>expire_flag</th>\n",
       "        <th>age</th>\n",
       "    </tr>\n",
       "    <tr>\n",
       "        <td>9472</td>\n",
       "        <td>10011</td>\n",
       "        <td>F</td>\n",
       "        <td>2090-06-05 00:00:00</td>\n",
       "        <td>2126-08-28 00:00:00</td>\n",
       "        <td>2126-08-28 00:00:00</td>\n",
       "        <td>None</td>\n",
       "        <td>1</td>\n",
       "        <td>13232.0</td>\n",
       "    </tr>\n",
       "    <tr>\n",
       "        <td>9553</td>\n",
       "        <td>10098</td>\n",
       "        <td>F</td>\n",
       "        <td>2150-12-07 00:00:00</td>\n",
       "        <td>2170-12-03 00:00:00</td>\n",
       "        <td>2170-12-03 00:00:00</td>\n",
       "        <td>None</td>\n",
       "        <td>1</td>\n",
       "        <td>7301.0</td>\n",
       "    </tr>\n",
       "    <tr>\n",
       "        <td>9582</td>\n",
       "        <td>10127</td>\n",
       "        <td>F</td>\n",
       "        <td>2181-04-19 00:00:00</td>\n",
       "        <td>2201-11-08 00:00:00</td>\n",
       "        <td>None</td>\n",
       "        <td>2201-11-08 00:00:00</td>\n",
       "        <td>1</td>\n",
       "        <td>7507.0</td>\n",
       "    </tr>\n",
       "</table>"
      ],
      "text/plain": [
       "[(9472, 10011, 'F', '2090-06-05 00:00:00', '2126-08-28 00:00:00', '2126-08-28 00:00:00', None, 1, 13232.0),\n",
       " (9553, 10098, 'F', '2150-12-07 00:00:00', '2170-12-03 00:00:00', '2170-12-03 00:00:00', None, 1, 7301.0),\n",
       " (9582, 10127, 'F', '2181-04-19 00:00:00', '2201-11-08 00:00:00', None, '2201-11-08 00:00:00', 1, 7507.0)]"
      ]
     },
     "execution_count": 23,
     "metadata": {},
     "output_type": "execute_result"
    }
   ],
   "source": [
    "%sql SELECT *,julianday(dod)-julianday(dob) AS age FROM patients WHERE gender = \"F\" and age < 14609.688 "
   ]
  },
  {
   "cell_type": "code",
   "execution_count": 27,
   "id": "south-deadline",
   "metadata": {},
   "outputs": [
    {
     "name": "stdout",
     "output_type": "stream",
     "text": [
      " * sqlite://///Users/leonidas/Desktop/AUTH_HealthData/Scripts/SQL_HSDA/mimic3.db\n",
      "753 rows affected.\n",
      " * sqlite://///Users/leonidas/Desktop/AUTH_HealthData/Scripts/SQL_HSDA/mimic3.db\n",
      "753 rows affected.\n"
     ]
    },
    {
     "data": {
      "text/plain": [
       "[]"
      ]
     },
     "execution_count": 27,
     "metadata": {},
     "output_type": "execute_result"
    }
   ],
   "source": [
    "%sql UPDATE d_labitems SET fluid = LOWER(fluid)\n",
    "\n",
    "%sql UPDATE d_labitems SET label = LOWER(label)\n"
   ]
  },
  {
   "cell_type": "code",
   "execution_count": 38,
   "id": "activated-tender",
   "metadata": {},
   "outputs": [
    {
     "name": "stdout",
     "output_type": "stream",
     "text": [
      " * sqlite://///Users/leonidas/Desktop/AUTH_HealthData/Scripts/SQL_HSDA/mimic3.db\n",
      "Done.\n"
     ]
    },
    {
     "data": {
      "text/html": [
       "<table>\n",
       "    <tr>\n",
       "        <th>row_id</th>\n",
       "        <th>itemid</th>\n",
       "        <th>label</th>\n",
       "        <th>fluid</th>\n",
       "        <th>category</th>\n",
       "        <th>loinc_code</th>\n",
       "    </tr>\n",
       "    <tr>\n",
       "        <td>104</td>\n",
       "        <td>50903</td>\n",
       "        <td>cholesterol ratio (total/hdl)</td>\n",
       "        <td>blood</td>\n",
       "        <td>Chemistry</td>\n",
       "        <td>9322-9</td>\n",
       "    </tr>\n",
       "    <tr>\n",
       "        <td>105</td>\n",
       "        <td>50904</td>\n",
       "        <td>cholesterol, hdl</td>\n",
       "        <td>blood</td>\n",
       "        <td>Chemistry</td>\n",
       "        <td>2085-9</td>\n",
       "    </tr>\n",
       "    <tr>\n",
       "        <td>106</td>\n",
       "        <td>50905</td>\n",
       "        <td>cholesterol, ldl, calculated</td>\n",
       "        <td>blood</td>\n",
       "        <td>Chemistry</td>\n",
       "        <td>2090-9</td>\n",
       "    </tr>\n",
       "    <tr>\n",
       "        <td>107</td>\n",
       "        <td>50906</td>\n",
       "        <td>cholesterol, ldl, measured</td>\n",
       "        <td>blood</td>\n",
       "        <td>Chemistry</td>\n",
       "        <td>18262-6</td>\n",
       "    </tr>\n",
       "    <tr>\n",
       "        <td>108</td>\n",
       "        <td>50907</td>\n",
       "        <td>cholesterol, total</td>\n",
       "        <td>blood</td>\n",
       "        <td>Chemistry</td>\n",
       "        <td>2093-3</td>\n",
       "    </tr>\n",
       "</table>"
      ],
      "text/plain": [
       "[(104, 50903, 'cholesterol ratio (total/hdl)', 'blood', 'Chemistry', '9322-9'),\n",
       " (105, 50904, 'cholesterol, hdl', 'blood', 'Chemistry', '2085-9'),\n",
       " (106, 50905, 'cholesterol, ldl, calculated', 'blood', 'Chemistry', '2090-9'),\n",
       " (107, 50906, 'cholesterol, ldl, measured', 'blood', 'Chemistry', '18262-6'),\n",
       " (108, 50907, 'cholesterol, total', 'blood', 'Chemistry', '2093-3')]"
      ]
     },
     "execution_count": 38,
     "metadata": {},
     "output_type": "execute_result"
    }
   ],
   "source": [
    "%sql SELECT * FROM d_labitems WHERE fluid LIKE '%blood%' AND label LIKE '%cholesterol%'"
   ]
  },
  {
   "cell_type": "markdown",
   "id": "71faae89",
   "metadata": {
    "slideshow": {
     "slide_type": "slide"
    }
   },
   "source": [
    "## LEFT JOIN\n",
    "\n",
    "In few words:\n",
    "\n",
    "- A LEFT JOIN performs a join starting with the left table.\n",
    "- Then, any matching records from the right table will be included.\n",
    "- Rows without a match return columns with NULL values.\n"
   ]
  },
  {
   "cell_type": "markdown",
   "id": "d04f61b1",
   "metadata": {
    "slideshow": {
     "slide_type": "slide"
    }
   },
   "source": [
    "- We use a LEFT JOIN when we want every row from the first table, regardless of whether there is a matching row from the second table.\n",
    "\n",
    "- This is similar to saying, **'Return all the data from the first table no matter what'**"
   ]
  },
  {
   "cell_type": "markdown",
   "id": "de63beff",
   "metadata": {
    "slideshow": {
     "slide_type": "slide"
    }
   },
   "source": [
    "Let's see an example to make things clearer:\n",
    "\n",
    "I am going to use **patients** and **callout** tables.\n",
    "\n",
    "**Callout** provides information when a patient was READY for discharge from the ICU, and when the patient was actually discharged from the ICU.\n",
    "\n",
    "I am using callout as it includes a subset of the patients of **patients** table."
   ]
  },
  {
   "cell_type": "code",
   "execution_count": 5,
   "id": "5f729027",
   "metadata": {
    "slideshow": {
     "slide_type": "subslide"
    }
   },
   "outputs": [
    {
     "name": "stdout",
     "output_type": "stream",
     "text": [
      " * sqlite://///Users/leonidas/Desktop/AUTH_HealthData/Scripts/SQL_HSDA/mimic3.db\n",
      "Done.\n"
     ]
    },
    {
     "data": {
      "text/html": [
       "<table>\n",
       "    <tr>\n",
       "        <th>subject_id</th>\n",
       "        <th>curr_careunit</th>\n",
       "    </tr>\n",
       "    <tr>\n",
       "        <td>10006</td>\n",
       "        <td>None</td>\n",
       "    </tr>\n",
       "    <tr>\n",
       "        <td>10011</td>\n",
       "        <td>None</td>\n",
       "    </tr>\n",
       "    <tr>\n",
       "        <td>10013</td>\n",
       "        <td>None</td>\n",
       "    </tr>\n",
       "    <tr>\n",
       "        <td>10017</td>\n",
       "        <td>CCU</td>\n",
       "    </tr>\n",
       "    <tr>\n",
       "        <td>10019</td>\n",
       "        <td>None</td>\n",
       "    </tr>\n",
       "    <tr>\n",
       "        <td>10026</td>\n",
       "        <td>SICU</td>\n",
       "    </tr>\n",
       "    <tr>\n",
       "        <td>10027</td>\n",
       "        <td>CSRU</td>\n",
       "    </tr>\n",
       "    <tr>\n",
       "        <td>10029</td>\n",
       "        <td>SICU</td>\n",
       "    </tr>\n",
       "    <tr>\n",
       "        <td>10032</td>\n",
       "        <td>None</td>\n",
       "    </tr>\n",
       "    <tr>\n",
       "        <td>10033</td>\n",
       "        <td>SICU</td>\n",
       "    </tr>\n",
       "    <tr>\n",
       "        <td>10035</td>\n",
       "        <td>None</td>\n",
       "    </tr>\n",
       "    <tr>\n",
       "        <td>10036</td>\n",
       "        <td>None</td>\n",
       "    </tr>\n",
       "    <tr>\n",
       "        <td>10038</td>\n",
       "        <td>SICU</td>\n",
       "    </tr>\n",
       "    <tr>\n",
       "        <td>10040</td>\n",
       "        <td>None</td>\n",
       "    </tr>\n",
       "    <tr>\n",
       "        <td>10042</td>\n",
       "        <td>None</td>\n",
       "    </tr>\n",
       "    <tr>\n",
       "        <td>10043</td>\n",
       "        <td>None</td>\n",
       "    </tr>\n",
       "    <tr>\n",
       "        <td>10044</td>\n",
       "        <td>None</td>\n",
       "    </tr>\n",
       "    <tr>\n",
       "        <td>10045</td>\n",
       "        <td>None</td>\n",
       "    </tr>\n",
       "    <tr>\n",
       "        <td>10046</td>\n",
       "        <td>None</td>\n",
       "    </tr>\n",
       "    <tr>\n",
       "        <td>10056</td>\n",
       "        <td>None</td>\n",
       "    </tr>\n",
       "    <tr>\n",
       "        <td>10059</td>\n",
       "        <td>MICU</td>\n",
       "    </tr>\n",
       "    <tr>\n",
       "        <td>10061</td>\n",
       "        <td>None</td>\n",
       "    </tr>\n",
       "    <tr>\n",
       "        <td>10064</td>\n",
       "        <td>None</td>\n",
       "    </tr>\n",
       "    <tr>\n",
       "        <td>10065</td>\n",
       "        <td>CSRU</td>\n",
       "    </tr>\n",
       "    <tr>\n",
       "        <td>10067</td>\n",
       "        <td>None</td>\n",
       "    </tr>\n",
       "    <tr>\n",
       "        <td>10069</td>\n",
       "        <td>None</td>\n",
       "    </tr>\n",
       "    <tr>\n",
       "        <td>10074</td>\n",
       "        <td>None</td>\n",
       "    </tr>\n",
       "    <tr>\n",
       "        <td>10076</td>\n",
       "        <td>None</td>\n",
       "    </tr>\n",
       "    <tr>\n",
       "        <td>10083</td>\n",
       "        <td>CCU</td>\n",
       "    </tr>\n",
       "    <tr>\n",
       "        <td>10083</td>\n",
       "        <td>MICU</td>\n",
       "    </tr>\n",
       "    <tr>\n",
       "        <td>10088</td>\n",
       "        <td>None</td>\n",
       "    </tr>\n",
       "    <tr>\n",
       "        <td>10089</td>\n",
       "        <td>None</td>\n",
       "    </tr>\n",
       "    <tr>\n",
       "        <td>10090</td>\n",
       "        <td>MICU</td>\n",
       "    </tr>\n",
       "    <tr>\n",
       "        <td>10093</td>\n",
       "        <td>None</td>\n",
       "    </tr>\n",
       "    <tr>\n",
       "        <td>10094</td>\n",
       "        <td>MICU</td>\n",
       "    </tr>\n",
       "    <tr>\n",
       "        <td>10098</td>\n",
       "        <td>None</td>\n",
       "    </tr>\n",
       "    <tr>\n",
       "        <td>10101</td>\n",
       "        <td>MICU</td>\n",
       "    </tr>\n",
       "    <tr>\n",
       "        <td>10102</td>\n",
       "        <td>None</td>\n",
       "    </tr>\n",
       "    <tr>\n",
       "        <td>10104</td>\n",
       "        <td>None</td>\n",
       "    </tr>\n",
       "    <tr>\n",
       "        <td>10106</td>\n",
       "        <td>None</td>\n",
       "    </tr>\n",
       "    <tr>\n",
       "        <td>10111</td>\n",
       "        <td>None</td>\n",
       "    </tr>\n",
       "    <tr>\n",
       "        <td>10112</td>\n",
       "        <td>None</td>\n",
       "    </tr>\n",
       "    <tr>\n",
       "        <td>10114</td>\n",
       "        <td>None</td>\n",
       "    </tr>\n",
       "    <tr>\n",
       "        <td>10117</td>\n",
       "        <td>None</td>\n",
       "    </tr>\n",
       "    <tr>\n",
       "        <td>10119</td>\n",
       "        <td>SICU</td>\n",
       "    </tr>\n",
       "    <tr>\n",
       "        <td>10120</td>\n",
       "        <td>None</td>\n",
       "    </tr>\n",
       "    <tr>\n",
       "        <td>10124</td>\n",
       "        <td>CCU</td>\n",
       "    </tr>\n",
       "    <tr>\n",
       "        <td>10124</td>\n",
       "        <td>MICU</td>\n",
       "    </tr>\n",
       "    <tr>\n",
       "        <td>10124</td>\n",
       "        <td>MICU</td>\n",
       "    </tr>\n",
       "    <tr>\n",
       "        <td>10126</td>\n",
       "        <td>None</td>\n",
       "    </tr>\n",
       "    <tr>\n",
       "        <td>10127</td>\n",
       "        <td>None</td>\n",
       "    </tr>\n",
       "    <tr>\n",
       "        <td>10130</td>\n",
       "        <td>None</td>\n",
       "    </tr>\n",
       "    <tr>\n",
       "        <td>10132</td>\n",
       "        <td>None</td>\n",
       "    </tr>\n",
       "    <tr>\n",
       "        <td>40124</td>\n",
       "        <td>CCU</td>\n",
       "    </tr>\n",
       "    <tr>\n",
       "        <td>40124</td>\n",
       "        <td>MICU</td>\n",
       "    </tr>\n",
       "    <tr>\n",
       "        <td>40177</td>\n",
       "        <td>None</td>\n",
       "    </tr>\n",
       "    <tr>\n",
       "        <td>40204</td>\n",
       "        <td>MICU</td>\n",
       "    </tr>\n",
       "    <tr>\n",
       "        <td>40277</td>\n",
       "        <td>MICU</td>\n",
       "    </tr>\n",
       "    <tr>\n",
       "        <td>40286</td>\n",
       "        <td>MICU</td>\n",
       "    </tr>\n",
       "    <tr>\n",
       "        <td>40304</td>\n",
       "        <td>MICU</td>\n",
       "    </tr>\n",
       "    <tr>\n",
       "        <td>40304</td>\n",
       "        <td>MICU</td>\n",
       "    </tr>\n",
       "    <tr>\n",
       "        <td>40310</td>\n",
       "        <td>None</td>\n",
       "    </tr>\n",
       "    <tr>\n",
       "        <td>40456</td>\n",
       "        <td>MICU</td>\n",
       "    </tr>\n",
       "    <tr>\n",
       "        <td>40503</td>\n",
       "        <td>None</td>\n",
       "    </tr>\n",
       "    <tr>\n",
       "        <td>40595</td>\n",
       "        <td>None</td>\n",
       "    </tr>\n",
       "    <tr>\n",
       "        <td>40601</td>\n",
       "        <td>CCU</td>\n",
       "    </tr>\n",
       "    <tr>\n",
       "        <td>40612</td>\n",
       "        <td>TSICU</td>\n",
       "    </tr>\n",
       "    <tr>\n",
       "        <td>40655</td>\n",
       "        <td>MICU</td>\n",
       "    </tr>\n",
       "    <tr>\n",
       "        <td>40687</td>\n",
       "        <td>None</td>\n",
       "    </tr>\n",
       "    <tr>\n",
       "        <td>41795</td>\n",
       "        <td>MICU</td>\n",
       "    </tr>\n",
       "    <tr>\n",
       "        <td>41795</td>\n",
       "        <td>MICU</td>\n",
       "    </tr>\n",
       "    <tr>\n",
       "        <td>41795</td>\n",
       "        <td>MICU</td>\n",
       "    </tr>\n",
       "    <tr>\n",
       "        <td>41795</td>\n",
       "        <td>MICU</td>\n",
       "    </tr>\n",
       "    <tr>\n",
       "        <td>41914</td>\n",
       "        <td>MICU</td>\n",
       "    </tr>\n",
       "    <tr>\n",
       "        <td>41976</td>\n",
       "        <td>MICU</td>\n",
       "    </tr>\n",
       "    <tr>\n",
       "        <td>41976</td>\n",
       "        <td>MICU</td>\n",
       "    </tr>\n",
       "    <tr>\n",
       "        <td>41976</td>\n",
       "        <td>MICU</td>\n",
       "    </tr>\n",
       "    <tr>\n",
       "        <td>41976</td>\n",
       "        <td>MICU</td>\n",
       "    </tr>\n",
       "    <tr>\n",
       "        <td>41976</td>\n",
       "        <td>MICU</td>\n",
       "    </tr>\n",
       "    <tr>\n",
       "        <td>41976</td>\n",
       "        <td>MICU</td>\n",
       "    </tr>\n",
       "    <tr>\n",
       "        <td>41976</td>\n",
       "        <td>MICU</td>\n",
       "    </tr>\n",
       "    <tr>\n",
       "        <td>41976</td>\n",
       "        <td>MICU</td>\n",
       "    </tr>\n",
       "    <tr>\n",
       "        <td>41976</td>\n",
       "        <td>MICU</td>\n",
       "    </tr>\n",
       "    <tr>\n",
       "        <td>41976</td>\n",
       "        <td>SICU</td>\n",
       "    </tr>\n",
       "    <tr>\n",
       "        <td>41976</td>\n",
       "        <td>SICU</td>\n",
       "    </tr>\n",
       "    <tr>\n",
       "        <td>41976</td>\n",
       "        <td>SICU</td>\n",
       "    </tr>\n",
       "    <tr>\n",
       "        <td>41983</td>\n",
       "        <td>None</td>\n",
       "    </tr>\n",
       "    <tr>\n",
       "        <td>42033</td>\n",
       "        <td>CCU</td>\n",
       "    </tr>\n",
       "    <tr>\n",
       "        <td>42066</td>\n",
       "        <td>TSICU</td>\n",
       "    </tr>\n",
       "    <tr>\n",
       "        <td>42075</td>\n",
       "        <td>None</td>\n",
       "    </tr>\n",
       "    <tr>\n",
       "        <td>42135</td>\n",
       "        <td>MICU</td>\n",
       "    </tr>\n",
       "    <tr>\n",
       "        <td>42199</td>\n",
       "        <td>SICU</td>\n",
       "    </tr>\n",
       "    <tr>\n",
       "        <td>42199</td>\n",
       "        <td>SICU</td>\n",
       "    </tr>\n",
       "    <tr>\n",
       "        <td>42231</td>\n",
       "        <td>MICU</td>\n",
       "    </tr>\n",
       "    <tr>\n",
       "        <td>42275</td>\n",
       "        <td>MICU</td>\n",
       "    </tr>\n",
       "    <tr>\n",
       "        <td>42281</td>\n",
       "        <td>MICU</td>\n",
       "    </tr>\n",
       "    <tr>\n",
       "        <td>42281</td>\n",
       "        <td>MICU</td>\n",
       "    </tr>\n",
       "    <tr>\n",
       "        <td>42281</td>\n",
       "        <td>MICU</td>\n",
       "    </tr>\n",
       "    <tr>\n",
       "        <td>42292</td>\n",
       "        <td>MICU</td>\n",
       "    </tr>\n",
       "    <tr>\n",
       "        <td>42302</td>\n",
       "        <td>MICU</td>\n",
       "    </tr>\n",
       "    <tr>\n",
       "        <td>42321</td>\n",
       "        <td>None</td>\n",
       "    </tr>\n",
       "    <tr>\n",
       "        <td>42346</td>\n",
       "        <td>MICU</td>\n",
       "    </tr>\n",
       "    <tr>\n",
       "        <td>42367</td>\n",
       "        <td>SICU</td>\n",
       "    </tr>\n",
       "    <tr>\n",
       "        <td>42412</td>\n",
       "        <td>None</td>\n",
       "    </tr>\n",
       "    <tr>\n",
       "        <td>42430</td>\n",
       "        <td>SICU</td>\n",
       "    </tr>\n",
       "    <tr>\n",
       "        <td>42458</td>\n",
       "        <td>None</td>\n",
       "    </tr>\n",
       "    <tr>\n",
       "        <td>43735</td>\n",
       "        <td>MICU</td>\n",
       "    </tr>\n",
       "    <tr>\n",
       "        <td>43746</td>\n",
       "        <td>SICU</td>\n",
       "    </tr>\n",
       "    <tr>\n",
       "        <td>43746</td>\n",
       "        <td>SICU</td>\n",
       "    </tr>\n",
       "    <tr>\n",
       "        <td>43748</td>\n",
       "        <td>CCU</td>\n",
       "    </tr>\n",
       "    <tr>\n",
       "        <td>43779</td>\n",
       "        <td>SICU</td>\n",
       "    </tr>\n",
       "    <tr>\n",
       "        <td>43798</td>\n",
       "        <td>SICU</td>\n",
       "    </tr>\n",
       "    <tr>\n",
       "        <td>43827</td>\n",
       "        <td>CCU</td>\n",
       "    </tr>\n",
       "    <tr>\n",
       "        <td>43870</td>\n",
       "        <td>SICU</td>\n",
       "    </tr>\n",
       "    <tr>\n",
       "        <td>43879</td>\n",
       "        <td>TSICU</td>\n",
       "    </tr>\n",
       "    <tr>\n",
       "        <td>43881</td>\n",
       "        <td>MICU</td>\n",
       "    </tr>\n",
       "    <tr>\n",
       "        <td>43881</td>\n",
       "        <td>TSICU</td>\n",
       "    </tr>\n",
       "    <tr>\n",
       "        <td>43909</td>\n",
       "        <td>None</td>\n",
       "    </tr>\n",
       "    <tr>\n",
       "        <td>43927</td>\n",
       "        <td>CSRU</td>\n",
       "    </tr>\n",
       "    <tr>\n",
       "        <td>44083</td>\n",
       "        <td>CCU</td>\n",
       "    </tr>\n",
       "    <tr>\n",
       "        <td>44083</td>\n",
       "        <td>CCU</td>\n",
       "    </tr>\n",
       "    <tr>\n",
       "        <td>44083</td>\n",
       "        <td>SICU</td>\n",
       "    </tr>\n",
       "    <tr>\n",
       "        <td>44154</td>\n",
       "        <td>None</td>\n",
       "    </tr>\n",
       "    <tr>\n",
       "        <td>44212</td>\n",
       "        <td>MICU</td>\n",
       "    </tr>\n",
       "    <tr>\n",
       "        <td>44222</td>\n",
       "        <td>None</td>\n",
       "    </tr>\n",
       "    <tr>\n",
       "        <td>44228</td>\n",
       "        <td>SICU</td>\n",
       "    </tr>\n",
       "</table>"
      ],
      "text/plain": [
       "[(10006, None),\n",
       " (10011, None),\n",
       " (10013, None),\n",
       " (10017, 'CCU'),\n",
       " (10019, None),\n",
       " (10026, 'SICU'),\n",
       " (10027, 'CSRU'),\n",
       " (10029, 'SICU'),\n",
       " (10032, None),\n",
       " (10033, 'SICU'),\n",
       " (10035, None),\n",
       " (10036, None),\n",
       " (10038, 'SICU'),\n",
       " (10040, None),\n",
       " (10042, None),\n",
       " (10043, None),\n",
       " (10044, None),\n",
       " (10045, None),\n",
       " (10046, None),\n",
       " (10056, None),\n",
       " (10059, 'MICU'),\n",
       " (10061, None),\n",
       " (10064, None),\n",
       " (10065, 'CSRU'),\n",
       " (10067, None),\n",
       " (10069, None),\n",
       " (10074, None),\n",
       " (10076, None),\n",
       " (10083, 'CCU'),\n",
       " (10083, 'MICU'),\n",
       " (10088, None),\n",
       " (10089, None),\n",
       " (10090, 'MICU'),\n",
       " (10093, None),\n",
       " (10094, 'MICU'),\n",
       " (10098, None),\n",
       " (10101, 'MICU'),\n",
       " (10102, None),\n",
       " (10104, None),\n",
       " (10106, None),\n",
       " (10111, None),\n",
       " (10112, None),\n",
       " (10114, None),\n",
       " (10117, None),\n",
       " (10119, 'SICU'),\n",
       " (10120, None),\n",
       " (10124, 'CCU'),\n",
       " (10124, 'MICU'),\n",
       " (10124, 'MICU'),\n",
       " (10126, None),\n",
       " (10127, None),\n",
       " (10130, None),\n",
       " (10132, None),\n",
       " (40124, 'CCU'),\n",
       " (40124, 'MICU'),\n",
       " (40177, None),\n",
       " (40204, 'MICU'),\n",
       " (40277, 'MICU'),\n",
       " (40286, 'MICU'),\n",
       " (40304, 'MICU'),\n",
       " (40304, 'MICU'),\n",
       " (40310, None),\n",
       " (40456, 'MICU'),\n",
       " (40503, None),\n",
       " (40595, None),\n",
       " (40601, 'CCU'),\n",
       " (40612, 'TSICU'),\n",
       " (40655, 'MICU'),\n",
       " (40687, None),\n",
       " (41795, 'MICU'),\n",
       " (41795, 'MICU'),\n",
       " (41795, 'MICU'),\n",
       " (41795, 'MICU'),\n",
       " (41914, 'MICU'),\n",
       " (41976, 'MICU'),\n",
       " (41976, 'MICU'),\n",
       " (41976, 'MICU'),\n",
       " (41976, 'MICU'),\n",
       " (41976, 'MICU'),\n",
       " (41976, 'MICU'),\n",
       " (41976, 'MICU'),\n",
       " (41976, 'MICU'),\n",
       " (41976, 'MICU'),\n",
       " (41976, 'SICU'),\n",
       " (41976, 'SICU'),\n",
       " (41976, 'SICU'),\n",
       " (41983, None),\n",
       " (42033, 'CCU'),\n",
       " (42066, 'TSICU'),\n",
       " (42075, None),\n",
       " (42135, 'MICU'),\n",
       " (42199, 'SICU'),\n",
       " (42199, 'SICU'),\n",
       " (42231, 'MICU'),\n",
       " (42275, 'MICU'),\n",
       " (42281, 'MICU'),\n",
       " (42281, 'MICU'),\n",
       " (42281, 'MICU'),\n",
       " (42292, 'MICU'),\n",
       " (42302, 'MICU'),\n",
       " (42321, None),\n",
       " (42346, 'MICU'),\n",
       " (42367, 'SICU'),\n",
       " (42412, None),\n",
       " (42430, 'SICU'),\n",
       " (42458, None),\n",
       " (43735, 'MICU'),\n",
       " (43746, 'SICU'),\n",
       " (43746, 'SICU'),\n",
       " (43748, 'CCU'),\n",
       " (43779, 'SICU'),\n",
       " (43798, 'SICU'),\n",
       " (43827, 'CCU'),\n",
       " (43870, 'SICU'),\n",
       " (43879, 'TSICU'),\n",
       " (43881, 'MICU'),\n",
       " (43881, 'TSICU'),\n",
       " (43909, None),\n",
       " (43927, 'CSRU'),\n",
       " (44083, 'CCU'),\n",
       " (44083, 'CCU'),\n",
       " (44083, 'SICU'),\n",
       " (44154, None),\n",
       " (44212, 'MICU'),\n",
       " (44222, None),\n",
       " (44228, 'SICU')]"
      ]
     },
     "execution_count": 5,
     "metadata": {},
     "output_type": "execute_result"
    }
   ],
   "source": [
    "%sql SELECT patients.subject_id,curr_careunit \\\n",
    "FROM patients LEFT JOIN  callout \\\n",
    "ON patients.subject_id = callout.subject_id"
   ]
  },
  {
   "cell_type": "markdown",
   "id": "306f9f6e",
   "metadata": {
    "slideshow": {
     "slide_type": "slide"
    }
   },
   "source": [
    "## RIGHT JOIN\n",
    "\n",
    "It is exactly the other way from the LEFT JOIN. It is not supported from SQLite. \n"
   ]
  },
  {
   "cell_type": "markdown",
   "id": "200db52d",
   "metadata": {
    "slideshow": {
     "slide_type": "slide"
    }
   },
   "source": [
    "# SUBQUERIES\n",
    "\n",
    "- They are also called inner queries or nested ones. They are queries embedded within the context of another query.\n",
    "- The output is included as part of the queries that surround it. \n",
    "- They can be used in SELECT WHERE and FROM clauses."
   ]
  },
  {
   "cell_type": "markdown",
   "id": "301e6ad6",
   "metadata": {
    "slideshow": {
     "slide_type": "slide"
    }
   },
   "source": [
    "We are using it because:\n",
    "\n",
    "- It can separate each logical part of a statement, so as to easily find any mistake in long and complicated queries.\n",
    "- It is sometimes faster that JOINS.\n",
    "- It is the most logical way to retrieve information."
   ]
  },
  {
   "cell_type": "markdown",
   "id": "1e6d1ed6",
   "metadata": {
    "slideshow": {
     "slide_type": "slide"
    }
   },
   "source": [
    "## SUBQUERIES RULES\n",
    "\n",
    "- ORDER BY phrases can not be used in subqueries.\n",
    "\n",
    "- Subqueries in SELECT and WHERE clauses that return more that one row must be used in combination with operators that are designed explicitely to handle multiple values as IN operator. Otherwise subqueries in SELECT or WHERE can output no more than one row. "
   ]
  },
  {
   "cell_type": "markdown",
   "id": "4d59a942",
   "metadata": {
    "slideshow": {
     "slide_type": "slide"
    }
   },
   "source": [
    "### Learn by example\n",
    "\n",
    "Let's try to find the overall average of drugs used per person using the **prescriptions** table. \n",
    "\n",
    "- First let's try to find the number of drugs each person took."
   ]
  },
  {
   "cell_type": "code",
   "execution_count": null,
   "id": "9a21ed2f",
   "metadata": {
    "scrolled": true,
    "slideshow": {
     "slide_type": "subslide"
    }
   },
   "outputs": [],
   "source": [
    "%sql SELECT subject_id, COUNT(drug) AS DrugCounter \\\n",
    "FROM prescriptions GROUP BY subject_id"
   ]
  },
  {
   "cell_type": "markdown",
   "id": "ff5f82a9",
   "metadata": {
    "slideshow": {
     "slide_type": "slide"
    }
   },
   "source": [
    "- To find the average let's enclose it to a outer query asking the AVG from DrugCounter:"
   ]
  },
  {
   "cell_type": "code",
   "execution_count": null,
   "id": "fe09b86f",
   "metadata": {
    "slideshow": {
     "slide_type": "fragment"
    }
   },
   "outputs": [],
   "source": [
    "%sql SELECT AVG(DrugCounter) AS AVGCOUNT FROM \\\n",
    "( \\\n",
    "SELECT subject_id, COUNT(drug) AS DrugCounter \\\n",
    "FROM prescriptions GROUP BY subject_id \\\n",
    ");"
   ]
  },
  {
   "cell_type": "markdown",
   "id": "4d662534",
   "metadata": {
    "slideshow": {
     "slide_type": "slide"
    }
   },
   "source": [
    "## Question\n",
    "Find the subject_id of patients that diagnosed with Atherosclerosis **d_icd_diagnoses** and **diagnoses_icd**"
   ]
  },
  {
   "cell_type": "code",
   "execution_count": null,
   "id": "07d3faa5",
   "metadata": {
    "slideshow": {
     "slide_type": "subslide"
    }
   },
   "outputs": [],
   "source": [
    "%sql SELECT DISTINCT subject_id FROM diagnoses_icd WHERE icd9_code IN \\\n",
    "(SELECT icd9_code AS DIABETES_NUM FROM d_icd_diagnoses WHERE long_title LIKE '%Atherosclerosis%')"
   ]
  }
 ],
 "metadata": {
  "celltoolbar": "Slideshow",
  "kernelspec": {
   "display_name": "Python 3",
   "language": "python",
   "name": "python3"
  },
  "language_info": {
   "codemirror_mode": {
    "name": "ipython",
    "version": 3
   },
   "file_extension": ".py",
   "mimetype": "text/x-python",
   "name": "python",
   "nbconvert_exporter": "python",
   "pygments_lexer": "ipython3",
   "version": "3.8.5"
  }
 },
 "nbformat": 4,
 "nbformat_minor": 5
}
