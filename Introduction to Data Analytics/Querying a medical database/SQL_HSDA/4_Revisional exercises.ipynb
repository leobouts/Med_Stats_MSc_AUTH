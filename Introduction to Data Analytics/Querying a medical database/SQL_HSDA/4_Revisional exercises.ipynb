{
 "cells": [
  {
   "cell_type": "markdown",
   "id": "17306a25",
   "metadata": {
    "slideshow": {
     "slide_type": "slide"
    }
   },
   "source": [
    "# Exercise your new skills \n",
    "\n",
    "Time to exercise our new skills. \n",
    "I have divided the questions to categories, in terms of the information that is needed."
   ]
  },
  {
   "cell_type": "code",
   "execution_count": null,
   "id": "aacb2f81",
   "metadata": {
    "slideshow": {
     "slide_type": "slide"
    }
   },
   "outputs": [],
   "source": [
    "%load_ext sql"
   ]
  },
  {
   "cell_type": "code",
   "execution_count": null,
   "id": "695d0aaa",
   "metadata": {
    "slideshow": {
     "slide_type": "slide"
    }
   },
   "outputs": [],
   "source": [
    "# Connect to the MIMIC database\n",
    "%sql sqlite:////Users/tdiak_000/Downloads/SQL_MSC/mimic3.db"
   ]
  },
  {
   "cell_type": "markdown",
   "id": "c2f80da9",
   "metadata": {
    "slideshow": {
     "slide_type": "slide"
    }
   },
   "source": [
    "# Patients"
   ]
  },
  {
   "cell_type": "markdown",
   "id": "de645b01",
   "metadata": {
    "slideshow": {
     "slide_type": "slide"
    }
   },
   "source": [
    "## Question 1\n",
    "Retrieve all admission and discharge dates so as the diagnosis of a patient with subject_id = 44083 from **admissions** table"
   ]
  },
  {
   "cell_type": "code",
   "execution_count": null,
   "id": "c42de454",
   "metadata": {
    "slideshow": {
     "slide_type": "subslide"
    }
   },
   "outputs": [],
   "source": [
    "%sql "
   ]
  },
  {
   "cell_type": "markdown",
   "id": "601f44e2",
   "metadata": {
    "slideshow": {
     "slide_type": "slide"
    }
   },
   "source": [
    "## Question 2\n",
    "Retrieve the patients religion distribution. Order from highest to lowest number of\n",
    "patients in a group. \n",
    "\n",
    "(Hint: use **admissions** table)"
   ]
  },
  {
   "cell_type": "code",
   "execution_count": null,
   "id": "4a5a97d0",
   "metadata": {
    "slideshow": {
     "slide_type": "subslide"
    }
   },
   "outputs": [],
   "source": [
    "%sql "
   ]
  },
  {
   "cell_type": "markdown",
   "id": "9d98440a",
   "metadata": {
    "slideshow": {
     "slide_type": "slide"
    }
   },
   "source": [
    "## Question 3\n",
    "Calculate the minimum, maximum, average of the patients' age. Round the results\n",
    "to one decimal. \n",
    "\n",
    "(Hint use a subquery to retrieve the patients' age and apply all the functions to that in **patients** table)"
   ]
  },
  {
   "cell_type": "code",
   "execution_count": null,
   "id": "3ee5fae8",
   "metadata": {
    "slideshow": {
     "slide_type": "subslide"
    }
   },
   "outputs": [],
   "source": [
    "%sql"
   ]
  },
  {
   "cell_type": "markdown",
   "id": "469fe012",
   "metadata": {
    "slideshow": {
     "slide_type": "slide"
    }
   },
   "source": [
    "# Diagnosis\n"
   ]
  },
  {
   "cell_type": "markdown",
   "id": "998537d6",
   "metadata": {
    "slideshow": {
     "slide_type": "slide"
    }
   },
   "source": [
    "## Question 1\n",
    "Find the total number of all different diagnoses codes. (table **diagnoses_icd**)"
   ]
  },
  {
   "cell_type": "code",
   "execution_count": null,
   "id": "7e7b0541",
   "metadata": {
    "slideshow": {
     "slide_type": "subslide"
    }
   },
   "outputs": [],
   "source": [
    "%sql "
   ]
  },
  {
   "cell_type": "markdown",
   "id": "4c8f1b36",
   "metadata": {
    "slideshow": {
     "slide_type": "slide"
    }
   },
   "source": [
    "## Question 2\n",
    "Find the codes of the 10 most often diagnoses according to the number of admissions\n",
    "\n",
    "(Use **diagnoses_icd** table)"
   ]
  },
  {
   "cell_type": "code",
   "execution_count": null,
   "id": "4fc190a2",
   "metadata": {
    "slideshow": {
     "slide_type": "subslide"
    }
   },
   "outputs": [],
   "source": [
    "%sql "
   ]
  },
  {
   "cell_type": "markdown",
   "id": "e554b95c",
   "metadata": {
    "slideshow": {
     "slide_type": "slide"
    }
   },
   "source": [
    "## Question 3\n",
    "Find all patients and their date of birth who have had any diagnosis that includes 'diabetes' anywhere in the diagnosis long title in \n",
    "\n",
    "Tables: diagnoses_icd, d_icd_diagnoses and patients.\n",
    "\n",
    "Steps:\n",
    "- Find first, from **dicd_diagnoses**, all the codes that have to do with diabetes\n",
    "- Then do a connection of subject_id and these codes with table diagnoses_icd \n",
    "- Finally use the subject_id's from them to collect information for the relative patients."
   ]
  },
  {
   "cell_type": "code",
   "execution_count": null,
   "id": "37951840",
   "metadata": {
    "slideshow": {
     "slide_type": "subslide"
    }
   },
   "outputs": [],
   "source": [
    "%sql "
   ]
  },
  {
   "cell_type": "markdown",
   "id": "06aecff0",
   "metadata": {
    "slideshow": {
     "slide_type": "slide"
    }
   },
   "source": [
    "# Mortality"
   ]
  },
  {
   "cell_type": "markdown",
   "id": "8c8682c9",
   "metadata": {
    "slideshow": {
     "slide_type": "slide"
    }
   },
   "source": [
    "## Question 1\n",
    "Find the diagnosis of the people who have died in hospital from **admissions** table and group them in descending order."
   ]
  },
  {
   "cell_type": "code",
   "execution_count": null,
   "id": "6df0da15",
   "metadata": {
    "slideshow": {
     "slide_type": "subslide"
    }
   },
   "outputs": [],
   "source": [
    "%sql "
   ]
  },
  {
   "cell_type": "markdown",
   "id": "7cacbe29",
   "metadata": {
    "slideshow": {
     "slide_type": "slide"
    }
   },
   "source": [
    "## Question 2\n",
    "Find the gender of the people that died from **admissions** table. (Use join with **patients** table)"
   ]
  },
  {
   "cell_type": "code",
   "execution_count": null,
   "id": "e0e676a8",
   "metadata": {
    "slideshow": {
     "slide_type": "subslide"
    }
   },
   "outputs": [],
   "source": [
    "%sql "
   ]
  },
  {
   "cell_type": "markdown",
   "id": "6555b044",
   "metadata": {
    "slideshow": {
     "slide_type": "slide"
    }
   },
   "source": [
    "## Question 3\n",
    "Write a query to find the total number of men and women who have died. (**admissions** table)"
   ]
  },
  {
   "cell_type": "code",
   "execution_count": null,
   "id": "43aa9b55",
   "metadata": {
    "slideshow": {
     "slide_type": "subslide"
    }
   },
   "outputs": [],
   "source": [
    "%sql "
   ]
  },
  {
   "cell_type": "markdown",
   "id": "e9dac11f",
   "metadata": {
    "slideshow": {
     "slide_type": "slide"
    }
   },
   "source": [
    "## Question 4\n",
    "Write a query to find gender and the age of men and women who have died.(**admissions** and **patients** tables)"
   ]
  },
  {
   "cell_type": "code",
   "execution_count": null,
   "id": "7c6e353e",
   "metadata": {
    "slideshow": {
     "slide_type": "subslide"
    }
   },
   "outputs": [],
   "source": [
    "%sql "
   ]
  },
  {
   "cell_type": "markdown",
   "id": "e83d76c7",
   "metadata": {
    "slideshow": {
     "slide_type": "slide"
    }
   },
   "source": [
    "## Question 5\n",
    "Find the subject_id's and diagnosis of people that died in the hospital from 1-1-2130 to 31-12-2149\n",
    "Hint: use strftime() function in **admissions** table"
   ]
  },
  {
   "cell_type": "code",
   "execution_count": null,
   "id": "0be295bb",
   "metadata": {
    "slideshow": {
     "slide_type": "subslide"
    }
   },
   "outputs": [],
   "source": [
    "%sql "
   ]
  },
  {
   "cell_type": "markdown",
   "id": "c47c0fe2",
   "metadata": {
    "slideshow": {
     "slide_type": "slide"
    }
   },
   "source": [
    "# Lab"
   ]
  },
  {
   "cell_type": "markdown",
   "id": "c46bb8e8",
   "metadata": {
    "slideshow": {
     "slide_type": "slide"
    }
   },
   "source": [
    "## Question 1\n",
    "\n",
    "Find all the microbiological results for the person with subject_id =10126 which belong to the category of Chemistry\n",
    "Use tables **labevents** and **d_labitems**"
   ]
  },
  {
   "cell_type": "code",
   "execution_count": null,
   "id": "101d458f",
   "metadata": {
    "slideshow": {
     "slide_type": "subslide"
    }
   },
   "outputs": [],
   "source": [
    "%sql "
   ]
  },
  {
   "cell_type": "markdown",
   "id": "343e6c35",
   "metadata": {
    "slideshow": {
     "slide_type": "slide"
    }
   },
   "source": [
    "## Question 2\n",
    "Find the people with abnormal results in 'LDL'  tests.\n",
    "(Use tables **labevents** and **d_labitems**)"
   ]
  },
  {
   "cell_type": "code",
   "execution_count": null,
   "id": "4daa43c8",
   "metadata": {
    "slideshow": {
     "slide_type": "subslide"
    }
   },
   "outputs": [],
   "source": [
    "%sql "
   ]
  },
  {
   "cell_type": "markdown",
   "id": "78191f6e",
   "metadata": {
    "slideshow": {
     "slide_type": "slide"
    }
   },
   "source": [
    "# Procedures\n",
    "We are going to use the following tables:\n",
    "**d_icd_procedures**(codes-name of procedure) and **procedures_icd** (the codes only for procedures-patients)"
   ]
  },
  {
   "cell_type": "markdown",
   "id": "3ef8cf09",
   "metadata": {
    "slideshow": {
     "slide_type": "slide"
    }
   },
   "source": [
    "## Question 1\n",
    "Find all the patients that underwent Arterial catheterization"
   ]
  },
  {
   "cell_type": "code",
   "execution_count": null,
   "id": "58eb4072",
   "metadata": {
    "slideshow": {
     "slide_type": "subslide"
    }
   },
   "outputs": [],
   "source": [
    "%sql "
   ]
  },
  {
   "cell_type": "markdown",
   "id": "4c051b27",
   "metadata": {
    "slideshow": {
     "slide_type": "-"
    }
   },
   "source": [
    "## Question 2\n",
    "Find the average time of their stay in hospital."
   ]
  },
  {
   "cell_type": "code",
   "execution_count": null,
   "id": "47433a1d",
   "metadata": {},
   "outputs": [],
   "source": []
  }
 ],
 "metadata": {
  "celltoolbar": "Slideshow",
  "kernelspec": {
   "display_name": "Python 3",
   "language": "python",
   "name": "python3"
  },
  "language_info": {
   "codemirror_mode": {
    "name": "ipython",
    "version": 3
   },
   "file_extension": ".py",
   "mimetype": "text/x-python",
   "name": "python",
   "nbconvert_exporter": "python",
   "pygments_lexer": "ipython3",
   "version": "3.9.1"
  }
 },
 "nbformat": 4,
 "nbformat_minor": 5
}
