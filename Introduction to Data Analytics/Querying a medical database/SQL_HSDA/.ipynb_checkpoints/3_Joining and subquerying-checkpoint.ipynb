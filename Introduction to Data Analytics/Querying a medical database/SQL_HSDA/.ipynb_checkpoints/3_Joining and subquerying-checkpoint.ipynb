{
 "cells": [
  {
   "cell_type": "code",
   "execution_count": 31,
   "id": "1ad46f84",
   "metadata": {},
   "outputs": [],
   "source": [
    "%reload_ext sql"
   ]
  },
  {
   "cell_type": "code",
   "execution_count": 32,
   "id": "58c3ad97",
   "metadata": {},
   "outputs": [],
   "source": [
    "# Connect to the MIMIC database\n",
    "%sql sqlite://///Users/leonidas/Desktop/AUTH_HealthData/Scripts/SQL_HSDA/mimic3.db"
   ]
  },
  {
   "cell_type": "markdown",
   "id": "8b0041b5",
   "metadata": {
    "slideshow": {
     "slide_type": "-"
    }
   },
   "source": [
    "# What is join? How are the tables joining?\n",
    "\n",
    "- So far we have used a single table to extract information, count, add, calculate averages and so on.\n",
    "- In real life we usually need to query multiple tables which have relationships. But what type of relationship this could it be? \n",
    "- Tables in relational databases are linked through primary keys and sometimes other fields that are common to multiple tables, as it is in our database. \n",
    "\n",
    "- An execution of a JOIN is used to combine rows from two or more tables, based on a related column between them."
   ]
  },
  {
   "cell_type": "markdown",
   "id": "9441a32a",
   "metadata": {
    "slideshow": {
     "slide_type": "slide"
    }
   },
   "source": [
    "\n",
    "\n",
    "## INNER JOIN\n",
    "\n",
    "> INNER JOIN selects records that have matching values in both tables\n",
    "\n",
    "The syntax is as follows:\n",
    "\n",
    "`SELECT table1.columnX, table2.columnY FROM table1 INNER JOIN table2 ON table1.column_name=table2.column_name` \n",
    "\n",
    "> **In case columnX and columnY appear only to one table there is no need to specify the table name within the definition of the column.**     "
   ]
  },
  {
   "cell_type": "code",
   "execution_count": 37,
   "id": "baking-bloom",
   "metadata": {},
   "outputs": [
    {
     "name": "stdout",
     "output_type": "stream",
     "text": [
      " * sqlite://///Users/leonidas/Desktop/AUTH_HealthData/Scripts/SQL_HSDA/mimic3.dbs\n",
      "(pysqlite2.dbapi2.OperationalError) no such table: patients\n",
      "[SQL: SELECT * FROM patients;]\n",
      "(Background on this error at: https://sqlalche.me/e/14/e3q8)\n"
     ]
    }
   ],
   "source": [
    "%sql SELECT * FROM admissions;\n"
   ]
  },
  {
   "cell_type": "markdown",
   "id": "9915ae73",
   "metadata": {
    "slideshow": {
     "slide_type": "slide"
    }
   },
   "source": [
    "<img src=\"joins.png\">"
   ]
  },
  {
   "cell_type": "markdown",
   "id": "23ac8ee1",
   "metadata": {
    "slideshow": {
     "slide_type": "slide"
    }
   },
   "source": [
    "Let's give an example to make things clearer. Take a look of the **icustays** table:\n",
    "- There are (among others) the fields **subject_id** and **intime** where are representing the patient id and the time the person entered the hospital.\n",
    "- Now take a look at **patients** table. It also include **subject_id** and also a field **dob** (date of birth). \n",
    "- Let's try to inner join these two tables to find out the age of the patients when they entered the hospital.\n",
    "\n"
   ]
  },
  {
   "cell_type": "markdown",
   "id": "b3d64be2",
   "metadata": {
    "slideshow": {
     "slide_type": "slide"
    }
   },
   "source": [
    "We are going to do it by joining the two tables on the subject_id fields of those:\n"
   ]
  },
  {
   "cell_type": "code",
   "execution_count": 35,
   "id": "1a94bf62",
   "metadata": {
    "slideshow": {
     "slide_type": "fragment"
    }
   },
   "outputs": [
    {
     "name": "stdout",
     "output_type": "stream",
     "text": [
      " * sqlite://///Users/leonidas/Desktop/AUTH_HealthData/Scripts/SQL_HSDA/mimic3.dbs\n",
      "(pysqlite2.dbapi2.OperationalError) no such table: icustays\n",
      "[SQL: SELECT icustays.subject_id, ROUND((julianday(icustays.intime) - julianday(patients.dob))/365.242, 3) AS age FROM icustays INNER JOIN patients ON icustays.subject_id = patients.subject_id;]\n",
      "(Background on this error at: https://sqlalche.me/e/14/e3q8)\n"
     ]
    }
   ],
   "source": [
    "%sql SELECT icustays.subject_id, \\\n",
    "    ROUND((julianday(icustays.intime) - julianday(patients.dob))/365.242, 3) AS age \\\n",
    "FROM icustays \\\n",
    "INNER JOIN patients  \\\n",
    "ON icustays.subject_id = patients.subject_id;"
   ]
  },
  {
   "cell_type": "markdown",
   "id": "71faae89",
   "metadata": {
    "slideshow": {
     "slide_type": "slide"
    }
   },
   "source": [
    "## LEFT JOIN\n",
    "\n",
    "In few words:\n",
    "\n",
    "- A LEFT JOIN performs a join starting with the left table.\n",
    "- Then, any matching records from the right table will be included.\n",
    "- Rows without a match return columns with NULL values.\n"
   ]
  },
  {
   "cell_type": "markdown",
   "id": "d04f61b1",
   "metadata": {
    "slideshow": {
     "slide_type": "slide"
    }
   },
   "source": [
    "- We use a LEFT JOIN when we want every row from the first table, regardless of whether there is a matching row from the second table.\n",
    "\n",
    "- This is similar to saying, **'Return all the data from the first table no matter what'**"
   ]
  },
  {
   "cell_type": "markdown",
   "id": "de63beff",
   "metadata": {
    "slideshow": {
     "slide_type": "slide"
    }
   },
   "source": [
    "Let's see an example to make things clearer:\n",
    "\n",
    "I am going to use **patients** and **callout** tables.\n",
    "\n",
    "**Callout** provides information when a patient was READY for discharge from the ICU, and when the patient was actually discharged from the ICU.\n",
    "\n",
    "I am using callout as it includes a subset of the patients of **patients** table."
   ]
  },
  {
   "cell_type": "code",
   "execution_count": null,
   "id": "5f729027",
   "metadata": {
    "slideshow": {
     "slide_type": "subslide"
    }
   },
   "outputs": [],
   "source": [
    "%sql SELECT patients.subject_id,curr_careunit \\\n",
    "FROM patients LEFT JOIN  callout \\\n",
    "ON patients.subject_id = callout.subject_id"
   ]
  },
  {
   "cell_type": "markdown",
   "id": "306f9f6e",
   "metadata": {
    "slideshow": {
     "slide_type": "slide"
    }
   },
   "source": [
    "## RIGHT JOIN\n",
    "\n",
    "It is exactly the other way from the LEFT JOIN. It is not supported from SQLite. \n"
   ]
  },
  {
   "cell_type": "markdown",
   "id": "200db52d",
   "metadata": {
    "slideshow": {
     "slide_type": "slide"
    }
   },
   "source": [
    "# SUBQUERIES\n",
    "\n",
    "- They are also called inner queries or nested ones. They are queries embedded within the context of another query.\n",
    "- The output is included as part of the queries that surround it. \n",
    "- They can be used in SELECT WHERE and FROM clauses."
   ]
  },
  {
   "cell_type": "markdown",
   "id": "301e6ad6",
   "metadata": {
    "slideshow": {
     "slide_type": "slide"
    }
   },
   "source": [
    "We are using it because:\n",
    "\n",
    "- It can separate each logical part of a statement, so as to easily find any mistake in long and complicated queries.\n",
    "- It is sometimes faster that JOINS.\n",
    "- It is the most logical way to retrieve information."
   ]
  },
  {
   "cell_type": "markdown",
   "id": "1e6d1ed6",
   "metadata": {
    "slideshow": {
     "slide_type": "slide"
    }
   },
   "source": [
    "## SUBQUERIES RULES\n",
    "\n",
    "- ORDER BY phrases can not be used in subqueries.\n",
    "\n",
    "- Subqueries in SELECT and WHERE clauses that return more that one row must be used in combination with operators that are designed explicitely to handle multiple values as IN operator. Otherwise subqueries in SELECT or WHERE can output no more than one row. "
   ]
  },
  {
   "cell_type": "markdown",
   "id": "4d59a942",
   "metadata": {
    "slideshow": {
     "slide_type": "slide"
    }
   },
   "source": [
    "### Learn by example\n",
    "\n",
    "Let's try to find the overall average of drugs used per person using the **prescriptions** table. \n",
    "\n",
    "- First let's try to find the number of drugs each person took."
   ]
  },
  {
   "cell_type": "code",
   "execution_count": null,
   "id": "9a21ed2f",
   "metadata": {
    "scrolled": true,
    "slideshow": {
     "slide_type": "subslide"
    }
   },
   "outputs": [],
   "source": [
    "%sql SELECT subject_id, COUNT(drug) AS DrugCounter \\\n",
    "FROM prescriptions GROUP BY subject_id"
   ]
  },
  {
   "cell_type": "markdown",
   "id": "ff5f82a9",
   "metadata": {
    "slideshow": {
     "slide_type": "slide"
    }
   },
   "source": [
    "- To find the average let's enclose it to a outer query asking the AVG from DrugCounter:"
   ]
  },
  {
   "cell_type": "code",
   "execution_count": null,
   "id": "fe09b86f",
   "metadata": {
    "slideshow": {
     "slide_type": "fragment"
    }
   },
   "outputs": [],
   "source": [
    "%sql SELECT AVG(DrugCounter) AS AVGCOUNT FROM \\\n",
    "( \\\n",
    "SELECT subject_id, COUNT(drug) AS DrugCounter \\\n",
    "FROM prescriptions GROUP BY subject_id \\\n",
    ");"
   ]
  },
  {
   "cell_type": "markdown",
   "id": "4d662534",
   "metadata": {
    "slideshow": {
     "slide_type": "slide"
    }
   },
   "source": [
    "## Question\n",
    "Find the subject_id of patients that diagnosed with Atherosclerosis **d_icd_diagnoses** and **diagnoses_icd**"
   ]
  },
  {
   "cell_type": "code",
   "execution_count": null,
   "id": "07d3faa5",
   "metadata": {
    "slideshow": {
     "slide_type": "subslide"
    }
   },
   "outputs": [],
   "source": [
    "%sql SELECT DISTINCT subject_id FROM diagnoses_icd WHERE icd9_code IN \\\n",
    "(SELECT icd9_code AS DIABETES_NUM FROM d_icd_diagnoses WHERE long_title LIKE '%Atherosclerosis%')"
   ]
  }
 ],
 "metadata": {
  "celltoolbar": "Slideshow",
  "kernelspec": {
   "display_name": "Python 3",
   "language": "python",
   "name": "python3"
  },
  "language_info": {
   "codemirror_mode": {
    "name": "ipython",
    "version": 3
   },
   "file_extension": ".py",
   "mimetype": "text/x-python",
   "name": "python",
   "nbconvert_exporter": "python",
   "pygments_lexer": "ipython3",
   "version": "3.8.5"
  }
 },
 "nbformat": 4,
 "nbformat_minor": 5
}
