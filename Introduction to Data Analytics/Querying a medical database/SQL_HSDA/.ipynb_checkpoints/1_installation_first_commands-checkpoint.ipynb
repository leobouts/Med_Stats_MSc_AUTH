{
 "cells": [
  {
   "cell_type": "markdown",
   "id": "6d4a4798",
   "metadata": {
    "slideshow": {
     "slide_type": "slide"
    }
   },
   "source": [
    "## WELCOME TO YOUR FIRST JUPITER NOTEBOOK!!!\n",
    "- Jupyter can integrate instructional text with area that you can run code. In our case SQL. We are taking advantage of it to make lecture more understandable.\n",
    "- Jupiter runs through Python so minor extras in executing the commands are needed.\n"
   ]
  },
  {
   "cell_type": "markdown",
   "id": "a7b1f0e4",
   "metadata": {
    "slideshow": {
     "slide_type": "slide"
    }
   },
   "source": [
    "# Basic commands\n",
    "\n",
    "|Pressing button\t| Result |\n",
    "|--------------|----------|\n",
    "|a| Add a cell above|\n",
    "|b|\tAdd a cell below|\t\n",
    "|c|\tCopy a cell|\t\n",
    "|v|\tPaste a cell|\t\n",
    "|x|\tCut a shell|\t\n",
    "|dd| Delete a shell\t\n",
    "|Ctrl +  z|\tUndo|\t\n",
    "|Ctrl + Shift + z|\tRedo|\n",
    "|Ctrl + Enter|\tExecute a command in a cell|\n"
   ]
  },
  {
   "cell_type": "markdown",
   "id": "556900ce",
   "metadata": {
    "slideshow": {
     "slide_type": "slide"
    }
   },
   "source": [
    "# Installing the sql compiler\n",
    "\n",
    "First thing needed is to install the sql compiler. We can do it with the following command:"
   ]
  },
  {
   "cell_type": "code",
   "execution_count": 2,
   "id": "347b2be1",
   "metadata": {
    "slideshow": {
     "slide_type": "fragment"
    }
   },
   "outputs": [
    {
     "name": "stdout",
     "output_type": "stream",
     "text": [
      "Requirement already satisfied: ipython-sql in /Library/Frameworks/Python.framework/Versions/3.8/lib/python3.8/site-packages (0.4.0)\n",
      "Requirement already satisfied: ipython-genutils>=0.1.0 in /Library/Frameworks/Python.framework/Versions/3.8/lib/python3.8/site-packages (from ipython-sql) (0.2.0)\n",
      "Requirement already satisfied: six in /Library/Frameworks/Python.framework/Versions/3.8/lib/python3.8/site-packages (from ipython-sql) (1.15.0)\n",
      "Requirement already satisfied: prettytable<1 in /Library/Frameworks/Python.framework/Versions/3.8/lib/python3.8/site-packages (from ipython-sql) (0.7.2)\n",
      "Requirement already satisfied: sqlalchemy>=0.6.7 in /Library/Frameworks/Python.framework/Versions/3.8/lib/python3.8/site-packages (from ipython-sql) (1.4.26)\n",
      "Requirement already satisfied: sqlparse in /Library/Frameworks/Python.framework/Versions/3.8/lib/python3.8/site-packages (from ipython-sql) (0.4.2)\n",
      "Requirement already satisfied: ipython>=1.0 in /Library/Frameworks/Python.framework/Versions/3.8/lib/python3.8/site-packages (from ipython-sql) (7.16.1)\n",
      "Requirement already satisfied: greenlet!=0.4.17; python_version >= \"3\" and (platform_machine == \"aarch64\" or (platform_machine == \"ppc64le\" or (platform_machine == \"x86_64\" or (platform_machine == \"amd64\" or (platform_machine == \"AMD64\" or (platform_machine == \"win32\" or platform_machine == \"WIN32\")))))) in /Library/Frameworks/Python.framework/Versions/3.8/lib/python3.8/site-packages (from sqlalchemy>=0.6.7->ipython-sql) (1.1.2)\n",
      "Requirement already satisfied: pexpect; sys_platform != \"win32\" in /Library/Frameworks/Python.framework/Versions/3.8/lib/python3.8/site-packages (from ipython>=1.0->ipython-sql) (4.8.0)\n",
      "Requirement already satisfied: jedi>=0.10 in /Library/Frameworks/Python.framework/Versions/3.8/lib/python3.8/site-packages (from ipython>=1.0->ipython-sql) (0.17.2)\n",
      "Requirement already satisfied: setuptools>=18.5 in /Library/Frameworks/Python.framework/Versions/3.8/lib/python3.8/site-packages (from ipython>=1.0->ipython-sql) (49.2.0)\n",
      "Requirement already satisfied: backcall in /Library/Frameworks/Python.framework/Versions/3.8/lib/python3.8/site-packages (from ipython>=1.0->ipython-sql) (0.2.0)\n",
      "Requirement already satisfied: traitlets>=4.2 in /Library/Frameworks/Python.framework/Versions/3.8/lib/python3.8/site-packages (from ipython>=1.0->ipython-sql) (4.3.3)\n",
      "Requirement already satisfied: pickleshare in /Library/Frameworks/Python.framework/Versions/3.8/lib/python3.8/site-packages (from ipython>=1.0->ipython-sql) (0.7.5)\n",
      "Requirement already satisfied: prompt-toolkit!=3.0.0,!=3.0.1,<3.1.0,>=2.0.0 in /Library/Frameworks/Python.framework/Versions/3.8/lib/python3.8/site-packages (from ipython>=1.0->ipython-sql) (3.0.5)\n",
      "Requirement already satisfied: decorator in /Library/Frameworks/Python.framework/Versions/3.8/lib/python3.8/site-packages (from ipython>=1.0->ipython-sql) (4.4.2)\n",
      "Requirement already satisfied: appnope; sys_platform == \"darwin\" in /Library/Frameworks/Python.framework/Versions/3.8/lib/python3.8/site-packages (from ipython>=1.0->ipython-sql) (0.1.0)\n",
      "Requirement already satisfied: pygments in /Library/Frameworks/Python.framework/Versions/3.8/lib/python3.8/site-packages (from ipython>=1.0->ipython-sql) (2.6.1)\n",
      "Requirement already satisfied: ptyprocess>=0.5 in /Library/Frameworks/Python.framework/Versions/3.8/lib/python3.8/site-packages (from pexpect; sys_platform != \"win32\"->ipython>=1.0->ipython-sql) (0.6.0)\n",
      "Requirement already satisfied: parso<0.8.0,>=0.7.0 in /Library/Frameworks/Python.framework/Versions/3.8/lib/python3.8/site-packages (from jedi>=0.10->ipython>=1.0->ipython-sql) (0.7.1)\n",
      "Requirement already satisfied: wcwidth in /Library/Frameworks/Python.framework/Versions/3.8/lib/python3.8/site-packages (from prompt-toolkit!=3.0.0,!=3.0.1,<3.1.0,>=2.0.0->ipython>=1.0->ipython-sql) (0.2.5)\n",
      "\u001b[33mWARNING: You are using pip version 20.1.1; however, version 21.3.1 is available.\n",
      "You should consider upgrading via the '/usr/local/bin/python3 -m pip install --upgrade pip' command.\u001b[0m\n"
     ]
    }
   ],
   "source": [
    "!python3 -m pip install ipython-sql"
   ]
  },
  {
   "cell_type": "markdown",
   "id": "336773c7-8922-48f5-8a9f-fd6d1468ff1d",
   "metadata": {
    "slideshow": {
     "slide_type": "slide"
    },
    "tags": []
   },
   "source": [
    "# Loading the installed compiler\n",
    "Is the second thing we are trying and first from now on everytime we want to start working with a database.\n",
    "Load the SQL library."
   ]
  },
  {
   "cell_type": "code",
   "execution_count": 4,
   "id": "e54cb676-91c3-4454-9afd-0bee84ae7582",
   "metadata": {
    "slideshow": {
     "slide_type": "fragment"
    }
   },
   "outputs": [],
   "source": [
    "%load_ext sql"
   ]
  },
  {
   "cell_type": "markdown",
   "id": "3c3c9831",
   "metadata": {
    "slideshow": {
     "slide_type": "slide"
    }
   },
   "source": [
    "# Using Jupiter to run SQL\n",
    "As Jupiter runs through Python, to execute a statement will require applying minimal amount of python code in our case:\n",
    "- The **%sql** before each command\n",
    "- **\\** to continue a line of code to a new line"
   ]
  },
  {
   "cell_type": "markdown",
   "id": "6a83705c-8da5-4ced-ab18-38a12f89c06e",
   "metadata": {
    "slideshow": {
     "slide_type": "slide"
    }
   },
   "source": [
    "# Connecting with the MIMIC III demo database"
   ]
  },
  {
   "cell_type": "code",
   "execution_count": 6,
   "id": "0c2fc122-d693-452f-88a5-e0fdc5a493dc",
   "metadata": {
    "slideshow": {
     "slide_type": "fragment"
    },
    "tags": []
   },
   "outputs": [
    {
     "name": "stdout",
     "output_type": "stream",
     "text": [
      "(pysqlite2.dbapi2.OperationalError) near \"HealthData\": syntax error\n",
      "[SQL: HealthData/Scripts/SQL_HSDA/mimic3.db]\n",
      "(Background on this error at: https://sqlalche.me/e/14/e3q8)\n"
     ]
    }
   ],
   "source": [
    "# Connect to the MIMIC database, try it using the path you downloaded the database.\n",
    "%sql sqlite://///\"Users/leonidas/Desktop/AUTH\\ HealthData/Scripts/SQL_HSDA/mimic3.db\""
   ]
  },
  {
   "cell_type": "markdown",
   "id": "a8b9d3fb-14d0-44ce-810e-5513d2261e74",
   "metadata": {
    "slideshow": {
     "slide_type": "slide"
    }
   },
   "source": [
    "## Show the tables of the database\n",
    "Let's start by finding out which tables our database mimic3.db is having:\n",
    "- All info about tables and fields, can be found here: \n",
    "https://mimic.mit.edu/docs/iii/tables/"
   ]
  },
  {
   "cell_type": "code",
   "execution_count": null,
   "id": "31849afe-192d-4fc8-a922-1924e844cbf8",
   "metadata": {
    "slideshow": {
     "slide_type": "subslide"
    },
    "tags": []
   },
   "outputs": [],
   "source": [
    "%sql SELECT name FROM sqlite_master WHERE type='table';"
   ]
  },
  {
   "cell_type": "markdown",
   "id": "4e2a52b5-001e-452a-8918-9746db64d0cf",
   "metadata": {
    "slideshow": {
     "slide_type": "slide"
    }
   },
   "source": [
    "## Show columns and other information\n",
    "\n",
    "The **PRAGMA** command in conjunction with **table_info** function returns one row for each column in the named table.\n"
   ]
  },
  {
   "cell_type": "code",
   "execution_count": null,
   "id": "6a80f089-c944-47ff-a945-1c21a211b379",
   "metadata": {
    "scrolled": true,
    "slideshow": {
     "slide_type": "subslide"
    },
    "tags": []
   },
   "outputs": [],
   "source": [
    "%sql PRAGMA table_info(admissions);"
   ]
  },
  {
   "cell_type": "markdown",
   "id": "4215d6c8",
   "metadata": {
    "slideshow": {
     "slide_type": "slide"
    }
   },
   "source": [
    "#### Columns in the result set include: \n",
    "> - The column name\n",
    "> - Data type\n",
    "> - Whether or not the column can be NULL \n",
    "> - The default value for the column. \n",
    "> - The \"pk\" column in the result set is zero for columns that are not part of the primary key, and is the index of the column in the primary key for columns that are part of the primary key."
   ]
  },
  {
   "cell_type": "markdown",
   "id": "5654eb31-3679-441c-9223-c0fd2a048e74",
   "metadata": {
    "slideshow": {
     "slide_type": "slide"
    }
   },
   "source": [
    "## The SELECT command and friends ...\n",
    "\n",
    "The SQL SELECT statement is used to retrieve records from one or more tables in your SQL database. The records retrieved are known as a result set. \n",
    "\n",
    "The skeleton of the command is:\n",
    "\n",
    "`SELECT columnname FROM tablename ;`"
   ]
  },
  {
   "cell_type": "markdown",
   "id": "553b56ca",
   "metadata": {
    "slideshow": {
     "slide_type": "slide"
    }
   },
   "source": [
    "Some useful advice before we continue:\n",
    "> SQL syntax is case insensitive. (Which means that any way you write your command, or your table, capitals or small letters sql will understand and run your code). It is recommended though, in order not to get confused and to easily read and debug your code to use SQL keywords in capital letters and table or column names in lower case or as they look (defined) initially in your database.  "
   ]
  },
  {
   "cell_type": "markdown",
   "id": "19a2ced1",
   "metadata": {
    "slideshow": {
     "slide_type": "slide"
    }
   },
   "source": [
    "Let's try out an example from the first table in alphabetical order that we have, admissions. Let's check out what is included."
   ]
  },
  {
   "cell_type": "code",
   "execution_count": null,
   "id": "e6373110-e304-4daa-b725-c0369b16139b",
   "metadata": {
    "slideshow": {
     "slide_type": "subslide"
    }
   },
   "outputs": [],
   "source": [
    "%sql SELECT ethnicity FROM admissions;"
   ]
  },
  {
   "cell_type": "markdown",
   "id": "e61eb745",
   "metadata": {
    "slideshow": {
     "slide_type": "slide"
    }
   },
   "source": [
    "In case we need to add extra columns to our select command, we separate each name of the column with a comma ',' except of the last name column. \n",
    "\n",
    "There **MUST NOT** be included. \n",
    "\n",
    "`SELECT column1,column2,column3,...,columnn FROM table;`"
   ]
  },
  {
   "cell_type": "code",
   "execution_count": null,
   "id": "7a2021ec",
   "metadata": {
    "slideshow": {
     "slide_type": "subslide"
    }
   },
   "outputs": [],
   "source": [
    "%sql SELECT ethnicity,admittime,diagnosis FROM admissions;"
   ]
  },
  {
   "cell_type": "markdown",
   "id": "2abea7d7",
   "metadata": {
    "slideshow": {
     "slide_type": "slide"
    }
   },
   "source": [
    "### Exercise \n",
    "Try to retrieve the date of birth **dob** and date of death **dod** from **patients** table. "
   ]
  },
  {
   "cell_type": "code",
   "execution_count": null,
   "id": "26900d5e",
   "metadata": {
    "slideshow": {
     "slide_type": "subslide"
    }
   },
   "outputs": [],
   "source": [
    "%sql"
   ]
  },
  {
   "cell_type": "markdown",
   "id": "1b8c3081",
   "metadata": {
    "slideshow": {
     "slide_type": "slide"
    }
   },
   "source": [
    "### Including all the columns \n",
    "\n",
    "If we would like to include all the columns of the table we just use * instead of all field (column) names. \n",
    "\n",
    "` SELECT * FROM tablename;`"
   ]
  },
  {
   "cell_type": "code",
   "execution_count": null,
   "id": "b02995d7",
   "metadata": {
    "slideshow": {
     "slide_type": "subslide"
    }
   },
   "outputs": [],
   "source": [
    "%sql SELECT * FROM icustays;"
   ]
  },
  {
   "cell_type": "markdown",
   "id": "b252ec0b",
   "metadata": {
    "slideshow": {
     "slide_type": "slide"
    }
   },
   "source": [
    "## The DISTINCT command for removing duplicates\n",
    "\n",
    "In case you need to retrieve unique rows and remove the duplicates, you need to use the DISTINCT keyword just after the SELECT statement:\n",
    "\n",
    "` SELECT DISTINCT column1,... FROM table;`\n"
   ]
  },
  {
   "cell_type": "code",
   "execution_count": null,
   "id": "8493b0ac",
   "metadata": {
    "slideshow": {
     "slide_type": "slide"
    }
   },
   "outputs": [],
   "source": [
    "%sql SELECT DISTINCT ethnicity FROM admissions;"
   ]
  },
  {
   "cell_type": "markdown",
   "id": "23964ed3",
   "metadata": {
    "slideshow": {
     "slide_type": "slide"
    }
   },
   "source": [
    "## Exercise\n",
    "Retrieve all the distinct coupling cases from religion and  marital status fields in admissions table."
   ]
  },
  {
   "cell_type": "code",
   "execution_count": null,
   "id": "f79319ac",
   "metadata": {
    "slideshow": {
     "slide_type": "subslide"
    }
   },
   "outputs": [],
   "source": [
    "%sql "
   ]
  },
  {
   "cell_type": "markdown",
   "id": "074ab217",
   "metadata": {
    "slideshow": {
     "slide_type": "slide"
    }
   },
   "source": [
    "## Sorting results using ORDER BY\n",
    "\n",
    "**ORDER BY** statement allows to sort alphabetically the output of the query. The default is to order in ascending order (**ASC**). You can always use **DESC** statement to reverse the order:\n"
   ]
  },
  {
   "cell_type": "code",
   "execution_count": null,
   "id": "a5a2a6e5",
   "metadata": {
    "slideshow": {
     "slide_type": "subslide"
    }
   },
   "outputs": [],
   "source": [
    "%sql SELECT DISTINCT subject_id,ethnicity FROM admissions ORDER BY ethnicity;"
   ]
  },
  {
   "cell_type": "code",
   "execution_count": null,
   "id": "6bba3282",
   "metadata": {
    "scrolled": false,
    "slideshow": {
     "slide_type": "subslide"
    }
   },
   "outputs": [],
   "source": [
    "%sql SELECT DISTINCT subject_id,ethnicity FROM admissions ORDER BY ethnicity DESC;"
   ]
  },
  {
   "cell_type": "markdown",
   "id": "61ab7524",
   "metadata": {
    "slideshow": {
     "slide_type": "slide"
    }
   },
   "source": [
    "## Sorting by multiple fields\n",
    "Sorting can be extended to multiple fields using a specified order.\n",
    "For example you can see all the possible combinations of ethnicity types and their marital status using ORDER BY and including both fields:"
   ]
  },
  {
   "cell_type": "code",
   "execution_count": null,
   "id": "bfae8bb4",
   "metadata": {
    "slideshow": {
     "slide_type": "subslide"
    }
   },
   "outputs": [],
   "source": [
    "%sql SELECT DISTINCT ethnicity,marital_status FROM admissions ORDER BY \\\n",
    "ethnicity,marital_status;"
   ]
  },
  {
   "cell_type": "markdown",
   "id": "49367406",
   "metadata": {
    "slideshow": {
     "slide_type": "slide"
    }
   },
   "source": [
    "## LIMIT Statement\n",
    "To limit your results, you can use **LIMIT** and the number of the first terms to report e.g."
   ]
  },
  {
   "cell_type": "code",
   "execution_count": null,
   "id": "e116657e",
   "metadata": {
    "slideshow": {
     "slide_type": "fragment"
    }
   },
   "outputs": [],
   "source": [
    "%sql SELECT DISTINCT subject_id,ethnicity FROM admissions ORDER BY ethnicity LIMIT 10;"
   ]
  },
  {
   "cell_type": "markdown",
   "id": "0190d3f6",
   "metadata": {
    "slideshow": {
     "slide_type": "slide"
    }
   },
   "source": [
    "### EXERCISE \n",
    "\n",
    "- Find the **description** of **caregivers** in alphabetical order and print the first 10 of them, from **caregivers** table."
   ]
  },
  {
   "cell_type": "code",
   "execution_count": null,
   "id": "9ec5b0ff",
   "metadata": {
    "slideshow": {
     "slide_type": "subslide"
    }
   },
   "outputs": [],
   "source": [
    "%sql SELECT DISTINCT description FROM caregivers ORDER BY description LIMIT 10;"
   ]
  },
  {
   "cell_type": "markdown",
   "id": "c734fdba",
   "metadata": {
    "slideshow": {
     "slide_type": "slide"
    }
   },
   "source": [
    "## ALIASES\n",
    "\n",
    "You can rename the name of the column in your query outputs using the **AS** command. That makes your code more understandable and readable. To implement it just include **AS** after the column you would like to change, and right after, the new name (alias) of the column. AN alias is assigned (temporary name). You can also apply it to tables. The structure is as follows:\n",
    "\n",
    "\n",
    "`SELECT column1 AS newcolumn1,... FROM table1;` "
   ]
  },
  {
   "cell_type": "code",
   "execution_count": null,
   "id": "dee3dac4",
   "metadata": {
    "slideshow": {
     "slide_type": "subslide"
    }
   },
   "outputs": [],
   "source": [
    "%sql SELECT subject_id AS PatientNo, dob AS DateOfBirth FROM patients;"
   ]
  },
  {
   "cell_type": "markdown",
   "id": "f39abb59",
   "metadata": {
    "slideshow": {
     "slide_type": "slide"
    }
   },
   "source": [
    "## Filtering results. The WHERE Statement\n",
    "\n",
    "The WHERE statement is used to filter the results so as to extract specific rows that fulfill a specific target.\n",
    "\n",
    "`SELECT column1, column2, ... FROM table1 WHERE filter1 ;`"
   ]
  },
  {
   "cell_type": "markdown",
   "id": "9acefe17",
   "metadata": {
    "slideshow": {
     "slide_type": "slide"
    }
   },
   "source": [
    "It is followed by operators \n",
    "\n",
    "|Operator\t| Description |\n",
    "|--------------|----------|\n",
    "| AND, OR, NOT| Logical operators|\n",
    "|=|\tEqual|\t\n",
    "|>|\tGreater than|\t\n",
    "|<|\tLess than|\t\n",
    "|>=|\tGreater than or equal|\t\n",
    "|<=|\tLess than or equal|\t\n",
    "|<>|\tNot equal. In some versions of SQL may be written as !=|\t\n",
    "|BETWEEN|\tBetween a certain range|\n",
    "|LIKE|\tSearch for a pattern|\t\n",
    "|IN|\tTo specify multiple possible values for a column|\n",
    "\n",
    "Let's start with an simple example to make things clearer. Filter the women in the **patients** table."
   ]
  },
  {
   "cell_type": "code",
   "execution_count": null,
   "id": "af5ee812",
   "metadata": {
    "slideshow": {
     "slide_type": "subslide"
    }
   },
   "outputs": [],
   "source": [
    "%sql SELECT * FROM patients WHERE gender = 'F' ;"
   ]
  },
  {
   "cell_type": "markdown",
   "id": "971c2953",
   "metadata": {
    "slideshow": {
     "slide_type": "subslide"
    }
   },
   "source": [
    "As there are only two categories, alternative queries could be:\n",
    "- %sql SELECT * FROM patients WHERE gender <> 'M' ;  \n",
    "- %sql SELECT * FROM patients WHERE gender IS NOT 'M' ;"
   ]
  },
  {
   "cell_type": "markdown",
   "id": "4f12ce44",
   "metadata": {
    "slideshow": {
     "slide_type": "slide"
    }
   },
   "source": [
    "## Exercise \n",
    "Select the patients from **admissions** table with row_id between 10000 and 40000"
   ]
  },
  {
   "cell_type": "code",
   "execution_count": null,
   "id": "a4ce34c6",
   "metadata": {
    "slideshow": {
     "slide_type": "subslide"
    }
   },
   "outputs": [],
   "source": [
    "%sql SELECT * FROM admissions WHERE subject_id BETWEEN 10000 AND 40000;"
   ]
  },
  {
   "cell_type": "markdown",
   "id": "eee6b2d5",
   "metadata": {
    "slideshow": {
     "slide_type": "slide"
    }
   },
   "source": [
    "## LIKE statement\n",
    "You can use LIKE to find a pattern, word or part of words using % and _. \n",
    "These are called wildcards. e.g.\n",
    "\n",
    "|Wildcard | Explanation|\n",
    "|--------------|----------|\n",
    "|%|Allows you to match any string of any length (including zero length)|\n",
    "|_|Allows you to match on a single character|"
   ]
  },
  {
   "cell_type": "markdown",
   "id": "ff3ab07b",
   "metadata": {
    "slideshow": {
     "slide_type": "slide"
    }
   },
   "source": [
    "To better understand how it works take a look of the following table:\n",
    "\n",
    "|LIKE Operator|Description|\n",
    "|--------------|----------|\n",
    "|WHERE drug LIKE 'a%'\t|Finds any values that start with \"a\"|\n",
    "|WHERE drug LIKE '%a'\t|Finds any values that end with \"a\"|\n",
    "|WHERE drug LIKE '%or%'\t|Finds any values that have \"or\" in any position|\n",
    "|WHERE drug LIKE '_r%'\t|Finds any values that have \"r\" in the second position|\n",
    "|WHERE drug LIKE 'a_%'\t|Finds any values that start with \"a\" and are at least 2 characters in length|\n",
    "|WHERE drug LIKE 'a__%'\t|Finds any values that start with \"a\" and are at least 3 characters in length|\n",
    "|WHERE drug LIKE 'a%s'\t|Finds any values that start with \"a\" and ends with \"s\"|\n"
   ]
  },
  {
   "cell_type": "markdown",
   "id": "ec47323a",
   "metadata": {
    "slideshow": {
     "slide_type": "slide"
    }
   },
   "source": [
    "### EXERCISE \n",
    "\n",
    "- Find all drug generic names which have the word *Magnesium* in the **prescriptions** table and are not *Magnesium Sulfate*.\t"
   ]
  },
  {
   "cell_type": "code",
   "execution_count": null,
   "id": "b613e7ed",
   "metadata": {
    "slideshow": {
     "slide_type": "subslide"
    }
   },
   "outputs": [],
   "source": [
    "%sql SELECT * FROM prescriptions WHERE drug_name_generic LIKE '%Magnesium%'\\\n",
    "AND drug_name_generic IS NOT 'Magnesium Sulfate';"
   ]
  },
  {
   "cell_type": "markdown",
   "id": "ab439089",
   "metadata": {
    "slideshow": {
     "slide_type": "slide"
    }
   },
   "source": [
    "## IN statement\n",
    "\n",
    "**IN** is used to filter to specific outputs. E.g.  "
   ]
  },
  {
   "cell_type": "code",
   "execution_count": null,
   "id": "b7cb855e",
   "metadata": {
    "slideshow": {
     "slide_type": "fragment"
    }
   },
   "outputs": [],
   "source": [
    "%sql SELECT * FROM prescriptions WHERE drug IN \\\n",
    "('Magnesium Oxide','Magnesium Citrate','Magnesium Sulfate');"
   ]
  },
  {
   "cell_type": "markdown",
   "id": "04e7359d",
   "metadata": {
    "slideshow": {
     "slide_type": "slide"
    }
   },
   "source": [
    "## Exercise \n",
    "Try doing the same thing as above using OR statement, an alternative."
   ]
  },
  {
   "cell_type": "code",
   "execution_count": null,
   "id": "a5028ab7",
   "metadata": {
    "slideshow": {
     "slide_type": "subslide"
    }
   },
   "outputs": [],
   "source": [
    "%sql SELECT * FROM prescriptions WHERE drug = 'Magnesium Oxide' \\\n",
    "OR drug ='Magnesium Citrate'\\\n",
    "OR drug ='Magnesium Sulfate';"
   ]
  }
 ],
 "metadata": {
  "celltoolbar": "Slideshow",
  "kernelspec": {
   "display_name": "Python 3",
   "language": "python",
   "name": "python3"
  },
  "language_info": {
   "codemirror_mode": {
    "name": "ipython",
    "version": 3
   },
   "file_extension": ".py",
   "mimetype": "text/x-python",
   "name": "python",
   "nbconvert_exporter": "python",
   "pygments_lexer": "ipython3",
   "version": "3.8.5"
  }
 },
 "nbformat": 4,
 "nbformat_minor": 5
}
