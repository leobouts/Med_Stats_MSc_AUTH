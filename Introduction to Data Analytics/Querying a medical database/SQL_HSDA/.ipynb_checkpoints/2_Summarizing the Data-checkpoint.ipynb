{
 "cells": [
  {
   "cell_type": "code",
   "execution_count": 1,
   "id": "5af51cd6",
   "metadata": {},
   "outputs": [],
   "source": [
    "%load_ext sql"
   ]
  },
  {
   "cell_type": "code",
   "execution_count": 2,
   "id": "05705cef",
   "metadata": {},
   "outputs": [],
   "source": [
    "# Connect to the MIMIC database\n",
    "%sql sqlite://///Users/leonidas/Desktop/AUTH_HealthData/Scripts/SQL_HSDA/mimic3.db"
   ]
  },
  {
   "cell_type": "markdown",
   "id": "5bacd9c2",
   "metadata": {
    "slideshow": {
     "slide_type": "slide"
    }
   },
   "source": [
    "#### Aggregate functions for summarizing your result\n",
    "We can use functions in SQL to run calculations that give useful information and summarize your data. \n",
    "\n",
    "|Function |What it returns|\n",
    "|--------------|----------|\n",
    "|**COUNT()**|Counts how many rows are in a particular column|\n",
    "|**SUM()**|Adds together all the values in a particular column|\n",
    "|**MIN()**|Returns the lowest value in a particular column|\n",
    "|**MAX()**|Returns the highest value in a particular column|\n",
    "|**AVG()**|Calculates the average of a group of selected values|"
   ]
  },
  {
   "cell_type": "markdown",
   "id": "06d7c0f4",
   "metadata": {
    "slideshow": {
     "slide_type": "slide"
    }
   },
   "source": [
    "The best way to learn is by an example. Let's figure out how many patients we have in patients database:"
   ]
  },
  {
   "cell_type": "code",
   "execution_count": 3,
   "id": "d4efb1a1",
   "metadata": {
    "slideshow": {
     "slide_type": "fragment"
    }
   },
   "outputs": [
    {
     "name": "stdout",
     "output_type": "stream",
     "text": [
      " * sqlite://///Users/leonidas/Desktop/AUTH_HealthData/Scripts/SQL_HSDA/mimic3.db\n",
      "Done.\n"
     ]
    },
    {
     "data": {
      "text/html": [
       "<table>\n",
       "    <tr>\n",
       "        <th>NUMBER_OF_PATIENTS</th>\n",
       "    </tr>\n",
       "    <tr>\n",
       "        <td>100</td>\n",
       "    </tr>\n",
       "</table>"
      ],
      "text/plain": [
       "[(100,)]"
      ]
     },
     "execution_count": 3,
     "metadata": {},
     "output_type": "execute_result"
    }
   ],
   "source": [
    "%sql SELECT COUNT(subject_id) AS NUMBER_OF_PATIENTS FROM patients;\n",
    "# You can also use * inside the COUNT function instead of subject_id, COUNT(*)"
   ]
  },
  {
   "cell_type": "markdown",
   "id": "4ad55299",
   "metadata": {
    "slideshow": {
     "slide_type": "skip"
    }
   },
   "source": [
    "Have in mind that:\n",
    "> When a column is included in a COUNT function, null values are ignored in the count. That is not the case when * is used.   "
   ]
  },
  {
   "cell_type": "markdown",
   "id": "e9352754",
   "metadata": {
    "slideshow": {
     "slide_type": "slide"
    }
   },
   "source": [
    "### EXERCISE \n",
    "Find the minimum the maximum so as the average time of hospital stay in days form table icustays. (Hint: Make use of the **los** column)"
   ]
  },
  {
   "cell_type": "code",
   "execution_count": 4,
   "id": "a156f476",
   "metadata": {
    "slideshow": {
     "slide_type": "fragment"
    }
   },
   "outputs": [
    {
     "name": "stdout",
     "output_type": "stream",
     "text": [
      " * sqlite://///Users/leonidas/Desktop/AUTH_HealthData/Scripts/SQL_HSDA/mimic3.db\n",
      "Done.\n"
     ]
    },
    {
     "data": {
      "text/html": [
       "<table>\n",
       "    <tr>\n",
       "        <th>MAX_STAY</th>\n",
       "        <th>MIN_STAY</th>\n",
       "        <th>Average_Stay</th>\n",
       "    </tr>\n",
       "    <tr>\n",
       "        <td>35.4065</td>\n",
       "        <td>0.1059</td>\n",
       "        <td>4.452456617647062</td>\n",
       "    </tr>\n",
       "</table>"
      ],
      "text/plain": [
       "[(35.4065, 0.1059, 4.452456617647062)]"
      ]
     },
     "execution_count": 4,
     "metadata": {},
     "output_type": "execute_result"
    }
   ],
   "source": [
    "%sql SELECT MAX(los) AS MAX_STAY, MIN(los) AS MIN_STAY, AVG(los) AS Average_Stay \\\n",
    "FROM icustays;"
   ]
  },
  {
   "cell_type": "markdown",
   "id": "ae9fecb9",
   "metadata": {
    "slideshow": {
     "slide_type": "slide"
    }
   },
   "source": [
    "### Arithmetical operations\n",
    "\n",
    "|Operator |Meaning | Operates on|\n",
    "|--------------|----------|--------------|\n",
    "| + |Addition |Numeric value|\n",
    "|- \t|Subtraction|Numeric value|\n",
    "|* \t|Multiplication\t|Numeric value|\n",
    "|/ \t|Division|Numeric value|\n",
    "|% \t|Division Remainder| Numeric value|\n",
    "\n",
    "- An example: 13 % 5 = 3 because the remainder of 13 divided by 5 is 3"
   ]
  },
  {
   "cell_type": "code",
   "execution_count": null,
   "id": "4830a1dd",
   "metadata": {
    "slideshow": {
     "slide_type": "slide"
    }
   },
   "outputs": [],
   "source": [
    "%sql SELECT (row_id - subject_id) AS test_difference FROM admissions LIMIT 10;"
   ]
  },
  {
   "cell_type": "markdown",
   "id": "279bcae3",
   "metadata": {
    "slideshow": {
     "slide_type": "slide"
    }
   },
   "source": [
    "## Calculating time, and time differences\n",
    "\n",
    "As it is easily seen in the database, we have TIMESTAMP datatypes, in our database. \n",
    "\n",
    "In order to calculate time, or time differences we can use some of the functions of SQLITE in:\n",
    "\n",
    "https://www.sqlite.org/lang_datefunc.html\n",
    "\n",
    "In our case, the best choice is JULIANDAY() function. "
   ]
  },
  {
   "cell_type": "markdown",
   "id": "8681044c",
   "metadata": {
    "slideshow": {
     "slide_type": "slide"
    }
   },
   "source": [
    "It provides us with the number of days since Nov 24, 4714 BC 12:00pm Greenwich time in the Gregorian calendar:\n",
    "\n",
    "https://www.techonthenet.com/sqlite/functions/julianday.php\n",
    "\n",
    "Just a reminder. JULIANDAY() can be used only by SQLITE. If we had a different implementation e.g. MySQL we have a different case. "
   ]
  },
  {
   "cell_type": "markdown",
   "id": "c0a10e7d",
   "metadata": {
    "slideshow": {
     "slide_type": "slide"
    }
   },
   "source": [
    "The following example calculates the lifespan of the patients in years rounding to 2 digits.\n",
    "\n",
    "SQLite function **ROUND()** takes two arguments:\n",
    "- **ROUND(X,Y)**\n",
    "- **X**, the number which will be rounded\n",
    "- **Y**, A number indicating up to how many decimal places N will be rounded."
   ]
  },
  {
   "cell_type": "code",
   "execution_count": 5,
   "id": "fde02906",
   "metadata": {
    "slideshow": {
     "slide_type": "slide"
    }
   },
   "outputs": [
    {
     "name": "stdout",
     "output_type": "stream",
     "text": [
      " * sqlite://///Users/leonidas/Desktop/AUTH_HealthData/Scripts/SQL_HSDA/mimic3.db\n",
      "Done.\n"
     ]
    },
    {
     "data": {
      "text/html": [
       "<table>\n",
       "    <tr>\n",
       "        <th>AGE_OF_DEATH</th>\n",
       "    </tr>\n",
       "    <tr>\n",
       "        <td>71.44</td>\n",
       "    </tr>\n",
       "    <tr>\n",
       "        <td>36.23</td>\n",
       "    </tr>\n",
       "    <tr>\n",
       "        <td>87.09</td>\n",
       "    </tr>\n",
       "    <tr>\n",
       "        <td>76.98</td>\n",
       "    </tr>\n",
       "    <tr>\n",
       "        <td>48.9</td>\n",
       "    </tr>\n",
       "    <tr>\n",
       "        <td>300.53</td>\n",
       "    </tr>\n",
       "    <tr>\n",
       "        <td>82.67</td>\n",
       "    </tr>\n",
       "    <tr>\n",
       "        <td>79.45</td>\n",
       "    </tr>\n",
       "    <tr>\n",
       "        <td>88.14</td>\n",
       "    </tr>\n",
       "    <tr>\n",
       "        <td>82.39</td>\n",
       "    </tr>\n",
       "    <tr>\n",
       "        <td>79.96</td>\n",
       "    </tr>\n",
       "    <tr>\n",
       "        <td>300.01</td>\n",
       "    </tr>\n",
       "    <tr>\n",
       "        <td>91.13</td>\n",
       "    </tr>\n",
       "    <tr>\n",
       "        <td>88.87</td>\n",
       "    </tr>\n",
       "    <tr>\n",
       "        <td>74.58</td>\n",
       "    </tr>\n",
       "    <tr>\n",
       "        <td>81.84</td>\n",
       "    </tr>\n",
       "    <tr>\n",
       "        <td>81.69</td>\n",
       "    </tr>\n",
       "    <tr>\n",
       "        <td>68.69</td>\n",
       "    </tr>\n",
       "    <tr>\n",
       "        <td>53.99</td>\n",
       "    </tr>\n",
       "    <tr>\n",
       "        <td>83.55</td>\n",
       "    </tr>\n",
       "    <tr>\n",
       "        <td>69.65</td>\n",
       "    </tr>\n",
       "    <tr>\n",
       "        <td>76.88</td>\n",
       "    </tr>\n",
       "    <tr>\n",
       "        <td>68.9</td>\n",
       "    </tr>\n",
       "    <tr>\n",
       "        <td>82.31</td>\n",
       "    </tr>\n",
       "    <tr>\n",
       "        <td>29.32</td>\n",
       "    </tr>\n",
       "    <tr>\n",
       "        <td>41.35</td>\n",
       "    </tr>\n",
       "    <tr>\n",
       "        <td>85.32</td>\n",
       "    </tr>\n",
       "    <tr>\n",
       "        <td>68.89</td>\n",
       "    </tr>\n",
       "    <tr>\n",
       "        <td>82.72</td>\n",
       "    </tr>\n",
       "    <tr>\n",
       "        <td>78.03</td>\n",
       "    </tr>\n",
       "    <tr>\n",
       "        <td>86.31</td>\n",
       "    </tr>\n",
       "    <tr>\n",
       "        <td>30.1</td>\n",
       "    </tr>\n",
       "    <tr>\n",
       "        <td>87.38</td>\n",
       "    </tr>\n",
       "    <tr>\n",
       "        <td>300.06</td>\n",
       "    </tr>\n",
       "    <tr>\n",
       "        <td>19.99</td>\n",
       "    </tr>\n",
       "    <tr>\n",
       "        <td>72.68</td>\n",
       "    </tr>\n",
       "    <tr>\n",
       "        <td>70.16</td>\n",
       "    </tr>\n",
       "    <tr>\n",
       "        <td>75.22</td>\n",
       "    </tr>\n",
       "    <tr>\n",
       "        <td>65.75</td>\n",
       "    </tr>\n",
       "    <tr>\n",
       "        <td>83.04</td>\n",
       "    </tr>\n",
       "    <tr>\n",
       "        <td>78.71</td>\n",
       "    </tr>\n",
       "    <tr>\n",
       "        <td>79.13</td>\n",
       "    </tr>\n",
       "    <tr>\n",
       "        <td>66.54</td>\n",
       "    </tr>\n",
       "    <tr>\n",
       "        <td>84.53</td>\n",
       "    </tr>\n",
       "    <tr>\n",
       "        <td>27.02</td>\n",
       "    </tr>\n",
       "    <tr>\n",
       "        <td>83.4</td>\n",
       "    </tr>\n",
       "    <tr>\n",
       "        <td>44.2</td>\n",
       "    </tr>\n",
       "    <tr>\n",
       "        <td>20.55</td>\n",
       "    </tr>\n",
       "    <tr>\n",
       "        <td>51.68</td>\n",
       "    </tr>\n",
       "    <tr>\n",
       "        <td>65.54</td>\n",
       "    </tr>\n",
       "    <tr>\n",
       "        <td>67.33</td>\n",
       "    </tr>\n",
       "    <tr>\n",
       "        <td>86.87</td>\n",
       "    </tr>\n",
       "    <tr>\n",
       "        <td>76.48</td>\n",
       "    </tr>\n",
       "    <tr>\n",
       "        <td>83.28</td>\n",
       "    </tr>\n",
       "    <tr>\n",
       "        <td>86.56</td>\n",
       "    </tr>\n",
       "    <tr>\n",
       "        <td>78.09</td>\n",
       "    </tr>\n",
       "    <tr>\n",
       "        <td>41.07</td>\n",
       "    </tr>\n",
       "    <tr>\n",
       "        <td>89.0</td>\n",
       "    </tr>\n",
       "    <tr>\n",
       "        <td>88.64</td>\n",
       "    </tr>\n",
       "    <tr>\n",
       "        <td>76.66</td>\n",
       "    </tr>\n",
       "    <tr>\n",
       "        <td>72.6</td>\n",
       "    </tr>\n",
       "    <tr>\n",
       "        <td>86.28</td>\n",
       "    </tr>\n",
       "    <tr>\n",
       "        <td>300.64</td>\n",
       "    </tr>\n",
       "    <tr>\n",
       "        <td>81.77</td>\n",
       "    </tr>\n",
       "    <tr>\n",
       "        <td>49.36</td>\n",
       "    </tr>\n",
       "    <tr>\n",
       "        <td>55.19</td>\n",
       "    </tr>\n",
       "    <tr>\n",
       "        <td>66.35</td>\n",
       "    </tr>\n",
       "    <tr>\n",
       "        <td>300.01</td>\n",
       "    </tr>\n",
       "    <tr>\n",
       "        <td>85.8</td>\n",
       "    </tr>\n",
       "    <tr>\n",
       "        <td>50.66</td>\n",
       "    </tr>\n",
       "    <tr>\n",
       "        <td>80.06</td>\n",
       "    </tr>\n",
       "    <tr>\n",
       "        <td>44.1</td>\n",
       "    </tr>\n",
       "    <tr>\n",
       "        <td>72.77</td>\n",
       "    </tr>\n",
       "    <tr>\n",
       "        <td>88.45</td>\n",
       "    </tr>\n",
       "    <tr>\n",
       "        <td>77.64</td>\n",
       "    </tr>\n",
       "    <tr>\n",
       "        <td>68.65</td>\n",
       "    </tr>\n",
       "    <tr>\n",
       "        <td>66.72</td>\n",
       "    </tr>\n",
       "    <tr>\n",
       "        <td>85.69</td>\n",
       "    </tr>\n",
       "    <tr>\n",
       "        <td>80.79</td>\n",
       "    </tr>\n",
       "    <tr>\n",
       "        <td>88.07</td>\n",
       "    </tr>\n",
       "    <tr>\n",
       "        <td>87.73</td>\n",
       "    </tr>\n",
       "    <tr>\n",
       "        <td>87.33</td>\n",
       "    </tr>\n",
       "    <tr>\n",
       "        <td>80.97</td>\n",
       "    </tr>\n",
       "    <tr>\n",
       "        <td>301.14</td>\n",
       "    </tr>\n",
       "    <tr>\n",
       "        <td>82.35</td>\n",
       "    </tr>\n",
       "    <tr>\n",
       "        <td>81.1</td>\n",
       "    </tr>\n",
       "    <tr>\n",
       "        <td>81.49</td>\n",
       "    </tr>\n",
       "    <tr>\n",
       "        <td>76.96</td>\n",
       "    </tr>\n",
       "    <tr>\n",
       "        <td>64.42</td>\n",
       "    </tr>\n",
       "    <tr>\n",
       "        <td>302.4</td>\n",
       "    </tr>\n",
       "    <tr>\n",
       "        <td>88.74</td>\n",
       "    </tr>\n",
       "    <tr>\n",
       "        <td>55.97</td>\n",
       "    </tr>\n",
       "    <tr>\n",
       "        <td>53.9</td>\n",
       "    </tr>\n",
       "    <tr>\n",
       "        <td>78.88</td>\n",
       "    </tr>\n",
       "    <tr>\n",
       "        <td>72.58</td>\n",
       "    </tr>\n",
       "    <tr>\n",
       "        <td>56.26</td>\n",
       "    </tr>\n",
       "    <tr>\n",
       "        <td>300.01</td>\n",
       "    </tr>\n",
       "    <tr>\n",
       "        <td>45.62</td>\n",
       "    </tr>\n",
       "    <tr>\n",
       "        <td>75.1</td>\n",
       "    </tr>\n",
       "    <tr>\n",
       "        <td>58.48</td>\n",
       "    </tr>\n",
       "</table>"
      ],
      "text/plain": [
       "[(71.44,),\n",
       " (36.23,),\n",
       " (87.09,),\n",
       " (76.98,),\n",
       " (48.9,),\n",
       " (300.53,),\n",
       " (82.67,),\n",
       " (79.45,),\n",
       " (88.14,),\n",
       " (82.39,),\n",
       " (79.96,),\n",
       " (300.01,),\n",
       " (91.13,),\n",
       " (88.87,),\n",
       " (74.58,),\n",
       " (81.84,),\n",
       " (81.69,),\n",
       " (68.69,),\n",
       " (53.99,),\n",
       " (83.55,),\n",
       " (69.65,),\n",
       " (76.88,),\n",
       " (68.9,),\n",
       " (82.31,),\n",
       " (29.32,),\n",
       " (41.35,),\n",
       " (85.32,),\n",
       " (68.89,),\n",
       " (82.72,),\n",
       " (78.03,),\n",
       " (86.31,),\n",
       " (30.1,),\n",
       " (87.38,),\n",
       " (300.06,),\n",
       " (19.99,),\n",
       " (72.68,),\n",
       " (70.16,),\n",
       " (75.22,),\n",
       " (65.75,),\n",
       " (83.04,),\n",
       " (78.71,),\n",
       " (79.13,),\n",
       " (66.54,),\n",
       " (84.53,),\n",
       " (27.02,),\n",
       " (83.4,),\n",
       " (44.2,),\n",
       " (20.55,),\n",
       " (51.68,),\n",
       " (65.54,),\n",
       " (67.33,),\n",
       " (86.87,),\n",
       " (76.48,),\n",
       " (83.28,),\n",
       " (86.56,),\n",
       " (78.09,),\n",
       " (41.07,),\n",
       " (89.0,),\n",
       " (88.64,),\n",
       " (76.66,),\n",
       " (72.6,),\n",
       " (86.28,),\n",
       " (300.64,),\n",
       " (81.77,),\n",
       " (49.36,),\n",
       " (55.19,),\n",
       " (66.35,),\n",
       " (300.01,),\n",
       " (85.8,),\n",
       " (50.66,),\n",
       " (80.06,),\n",
       " (44.1,),\n",
       " (72.77,),\n",
       " (88.45,),\n",
       " (77.64,),\n",
       " (68.65,),\n",
       " (66.72,),\n",
       " (85.69,),\n",
       " (80.79,),\n",
       " (88.07,),\n",
       " (87.73,),\n",
       " (87.33,),\n",
       " (80.97,),\n",
       " (301.14,),\n",
       " (82.35,),\n",
       " (81.1,),\n",
       " (81.49,),\n",
       " (76.96,),\n",
       " (64.42,),\n",
       " (302.4,),\n",
       " (88.74,),\n",
       " (55.97,),\n",
       " (53.9,),\n",
       " (78.88,),\n",
       " (72.58,),\n",
       " (56.26,),\n",
       " (300.01,),\n",
       " (45.62,),\n",
       " (75.1,),\n",
       " (58.48,)]"
      ]
     },
     "execution_count": 5,
     "metadata": {},
     "output_type": "execute_result"
    }
   ],
   "source": [
    "%sql SELECT ROUND((JULIANDAY(dod)-JULIANDAY(dob))/365.24,2) \\\n",
    "AS AGE_OF_DEATH FROM patients;"
   ]
  },
  {
   "cell_type": "markdown",
   "id": "cd21129d",
   "metadata": {
    "slideshow": {
     "slide_type": "slide"
    }
   },
   "source": [
    "### EXERCISE \n",
    "Find the days, by subject_id of hospital stay of the patients that did not pass away in hospital(hospital_expire_flag=0), by descending time. (Use **admissions** table)"
   ]
  },
  {
   "cell_type": "code",
   "execution_count": 6,
   "id": "abad98af",
   "metadata": {
    "slideshow": {
     "slide_type": "subslide"
    }
   },
   "outputs": [
    {
     "name": "stdout",
     "output_type": "stream",
     "text": [
      " * sqlite://///Users/leonidas/Desktop/AUTH_HealthData/Scripts/SQL_HSDA/mimic3.db\n",
      "Done.\n"
     ]
    },
    {
     "data": {
      "text/html": [
       "<table>\n",
       "    <tr>\n",
       "        <th>subject_id</th>\n",
       "        <th>HIME</th>\n",
       "    </tr>\n",
       "    <tr>\n",
       "        <td>40310</td>\n",
       "        <td>123.98</td>\n",
       "    </tr>\n",
       "    <tr>\n",
       "        <td>43798</td>\n",
       "        <td>39.7</td>\n",
       "    </tr>\n",
       "    <tr>\n",
       "        <td>44212</td>\n",
       "        <td>36.01</td>\n",
       "    </tr>\n",
       "    <tr>\n",
       "        <td>10061</td>\n",
       "        <td>25.0</td>\n",
       "    </tr>\n",
       "    <tr>\n",
       "        <td>10132</td>\n",
       "        <td>24.75</td>\n",
       "    </tr>\n",
       "    <tr>\n",
       "        <td>10127</td>\n",
       "        <td>22.39</td>\n",
       "    </tr>\n",
       "    <tr>\n",
       "        <td>10130</td>\n",
       "        <td>19.9</td>\n",
       "    </tr>\n",
       "    <tr>\n",
       "        <td>10083</td>\n",
       "        <td>17.5</td>\n",
       "    </tr>\n",
       "    <tr>\n",
       "        <td>41914</td>\n",
       "        <td>16.98</td>\n",
       "    </tr>\n",
       "    <tr>\n",
       "        <td>10119</td>\n",
       "        <td>13.91</td>\n",
       "    </tr>\n",
       "    <tr>\n",
       "        <td>41795</td>\n",
       "        <td>13.75</td>\n",
       "    </tr>\n",
       "    <tr>\n",
       "        <td>41976</td>\n",
       "        <td>13.62</td>\n",
       "    </tr>\n",
       "    <tr>\n",
       "        <td>10032</td>\n",
       "        <td>12.78</td>\n",
       "    </tr>\n",
       "    <tr>\n",
       "        <td>10043</td>\n",
       "        <td>12.75</td>\n",
       "    </tr>\n",
       "    <tr>\n",
       "        <td>10088</td>\n",
       "        <td>12.33</td>\n",
       "    </tr>\n",
       "    <tr>\n",
       "        <td>10027</td>\n",
       "        <td>12.28</td>\n",
       "    </tr>\n",
       "    <tr>\n",
       "        <td>10065</td>\n",
       "        <td>12.28</td>\n",
       "    </tr>\n",
       "    <tr>\n",
       "        <td>42135</td>\n",
       "        <td>12.03</td>\n",
       "    </tr>\n",
       "    <tr>\n",
       "        <td>10038</td>\n",
       "        <td>11.82</td>\n",
       "    </tr>\n",
       "    <tr>\n",
       "        <td>10042</td>\n",
       "        <td>11.27</td>\n",
       "    </tr>\n",
       "    <tr>\n",
       "        <td>41976</td>\n",
       "        <td>10.85</td>\n",
       "    </tr>\n",
       "    <tr>\n",
       "        <td>10046</td>\n",
       "        <td>10.65</td>\n",
       "    </tr>\n",
       "    <tr>\n",
       "        <td>10029</td>\n",
       "        <td>10.15</td>\n",
       "    </tr>\n",
       "    <tr>\n",
       "        <td>44083</td>\n",
       "        <td>10.05</td>\n",
       "    </tr>\n",
       "    <tr>\n",
       "        <td>42199</td>\n",
       "        <td>9.97</td>\n",
       "    </tr>\n",
       "    <tr>\n",
       "        <td>10094</td>\n",
       "        <td>9.95</td>\n",
       "    </tr>\n",
       "    <tr>\n",
       "        <td>10124</td>\n",
       "        <td>9.95</td>\n",
       "    </tr>\n",
       "    <tr>\n",
       "        <td>40655</td>\n",
       "        <td>9.8</td>\n",
       "    </tr>\n",
       "    <tr>\n",
       "        <td>40304</td>\n",
       "        <td>9.68</td>\n",
       "    </tr>\n",
       "    <tr>\n",
       "        <td>44228</td>\n",
       "        <td>9.62</td>\n",
       "    </tr>\n",
       "    <tr>\n",
       "        <td>10044</td>\n",
       "        <td>8.97</td>\n",
       "    </tr>\n",
       "    <tr>\n",
       "        <td>40595</td>\n",
       "        <td>8.93</td>\n",
       "    </tr>\n",
       "    <tr>\n",
       "        <td>10006</td>\n",
       "        <td>8.84</td>\n",
       "    </tr>\n",
       "    <tr>\n",
       "        <td>41976</td>\n",
       "        <td>8.61</td>\n",
       "    </tr>\n",
       "    <tr>\n",
       "        <td>42231</td>\n",
       "        <td>8.38</td>\n",
       "    </tr>\n",
       "    <tr>\n",
       "        <td>43881</td>\n",
       "        <td>8.09</td>\n",
       "    </tr>\n",
       "    <tr>\n",
       "        <td>10017</td>\n",
       "        <td>8.06</td>\n",
       "    </tr>\n",
       "    <tr>\n",
       "        <td>40204</td>\n",
       "        <td>7.93</td>\n",
       "    </tr>\n",
       "    <tr>\n",
       "        <td>10074</td>\n",
       "        <td>7.72</td>\n",
       "    </tr>\n",
       "    <tr>\n",
       "        <td>41976</td>\n",
       "        <td>7.35</td>\n",
       "    </tr>\n",
       "    <tr>\n",
       "        <td>44083</td>\n",
       "        <td>7.26</td>\n",
       "    </tr>\n",
       "    <tr>\n",
       "        <td>10026</td>\n",
       "        <td>7.17</td>\n",
       "    </tr>\n",
       "    <tr>\n",
       "        <td>10088</td>\n",
       "        <td>7.16</td>\n",
       "    </tr>\n",
       "    <tr>\n",
       "        <td>41976</td>\n",
       "        <td>7.14</td>\n",
       "    </tr>\n",
       "    <tr>\n",
       "        <td>10114</td>\n",
       "        <td>6.83</td>\n",
       "    </tr>\n",
       "    <tr>\n",
       "        <td>10104</td>\n",
       "        <td>6.81</td>\n",
       "    </tr>\n",
       "    <tr>\n",
       "        <td>41976</td>\n",
       "        <td>6.77</td>\n",
       "    </tr>\n",
       "    <tr>\n",
       "        <td>40124</td>\n",
       "        <td>6.63</td>\n",
       "    </tr>\n",
       "    <tr>\n",
       "        <td>40601</td>\n",
       "        <td>6.41</td>\n",
       "    </tr>\n",
       "    <tr>\n",
       "        <td>40124</td>\n",
       "        <td>6.4</td>\n",
       "    </tr>\n",
       "    <tr>\n",
       "        <td>42412</td>\n",
       "        <td>6.08</td>\n",
       "    </tr>\n",
       "    <tr>\n",
       "        <td>43748</td>\n",
       "        <td>5.99</td>\n",
       "    </tr>\n",
       "    <tr>\n",
       "        <td>43881</td>\n",
       "        <td>5.95</td>\n",
       "    </tr>\n",
       "    <tr>\n",
       "        <td>10088</td>\n",
       "        <td>5.81</td>\n",
       "    </tr>\n",
       "    <tr>\n",
       "        <td>10117</td>\n",
       "        <td>5.7</td>\n",
       "    </tr>\n",
       "    <tr>\n",
       "        <td>10059</td>\n",
       "        <td>5.58</td>\n",
       "    </tr>\n",
       "    <tr>\n",
       "        <td>40612</td>\n",
       "        <td>5.45</td>\n",
       "    </tr>\n",
       "    <tr>\n",
       "        <td>10119</td>\n",
       "        <td>5.25</td>\n",
       "    </tr>\n",
       "    <tr>\n",
       "        <td>40286</td>\n",
       "        <td>5.25</td>\n",
       "    </tr>\n",
       "    <tr>\n",
       "        <td>42346</td>\n",
       "        <td>5.07</td>\n",
       "    </tr>\n",
       "    <tr>\n",
       "        <td>41976</td>\n",
       "        <td>4.92</td>\n",
       "    </tr>\n",
       "    <tr>\n",
       "        <td>42321</td>\n",
       "        <td>4.83</td>\n",
       "    </tr>\n",
       "    <tr>\n",
       "        <td>10106</td>\n",
       "        <td>4.78</td>\n",
       "    </tr>\n",
       "    <tr>\n",
       "        <td>40277</td>\n",
       "        <td>4.69</td>\n",
       "    </tr>\n",
       "    <tr>\n",
       "        <td>10056</td>\n",
       "        <td>4.56</td>\n",
       "    </tr>\n",
       "    <tr>\n",
       "        <td>10040</td>\n",
       "        <td>4.19</td>\n",
       "    </tr>\n",
       "    <tr>\n",
       "        <td>43927</td>\n",
       "        <td>4.1</td>\n",
       "    </tr>\n",
       "    <tr>\n",
       "        <td>10035</td>\n",
       "        <td>4.09</td>\n",
       "    </tr>\n",
       "    <tr>\n",
       "        <td>41976</td>\n",
       "        <td>4.08</td>\n",
       "    </tr>\n",
       "    <tr>\n",
       "        <td>43827</td>\n",
       "        <td>4.07</td>\n",
       "    </tr>\n",
       "    <tr>\n",
       "        <td>42302</td>\n",
       "        <td>3.91</td>\n",
       "    </tr>\n",
       "    <tr>\n",
       "        <td>41976</td>\n",
       "        <td>3.9</td>\n",
       "    </tr>\n",
       "    <tr>\n",
       "        <td>10033</td>\n",
       "        <td>3.52</td>\n",
       "    </tr>\n",
       "    <tr>\n",
       "        <td>41795</td>\n",
       "        <td>3.31</td>\n",
       "    </tr>\n",
       "    <tr>\n",
       "        <td>42292</td>\n",
       "        <td>2.99</td>\n",
       "    </tr>\n",
       "    <tr>\n",
       "        <td>41976</td>\n",
       "        <td>2.96</td>\n",
       "    </tr>\n",
       "    <tr>\n",
       "        <td>41976</td>\n",
       "        <td>2.94</td>\n",
       "    </tr>\n",
       "    <tr>\n",
       "        <td>41976</td>\n",
       "        <td>2.92</td>\n",
       "    </tr>\n",
       "    <tr>\n",
       "        <td>44083</td>\n",
       "        <td>2.91</td>\n",
       "    </tr>\n",
       "    <tr>\n",
       "        <td>40456</td>\n",
       "        <td>2.88</td>\n",
       "    </tr>\n",
       "    <tr>\n",
       "        <td>42275</td>\n",
       "        <td>2.87</td>\n",
       "    </tr>\n",
       "    <tr>\n",
       "        <td>41976</td>\n",
       "        <td>2.86</td>\n",
       "    </tr>\n",
       "    <tr>\n",
       "        <td>41976</td>\n",
       "        <td>2.75</td>\n",
       "    </tr>\n",
       "    <tr>\n",
       "        <td>43779</td>\n",
       "        <td>2.75</td>\n",
       "    </tr>\n",
       "    <tr>\n",
       "        <td>41976</td>\n",
       "        <td>2.73</td>\n",
       "    </tr>\n",
       "    <tr>\n",
       "        <td>10090</td>\n",
       "        <td>2.19</td>\n",
       "    </tr>\n",
       "    <tr>\n",
       "        <td>44222</td>\n",
       "        <td>1.25</td>\n",
       "    </tr>\n",
       "    <tr>\n",
       "        <td>42458</td>\n",
       "        <td>1.0</td>\n",
       "    </tr>\n",
       "    <tr>\n",
       "        <td>43879</td>\n",
       "        <td>0.98</td>\n",
       "    </tr>\n",
       "</table>"
      ],
      "text/plain": [
       "[(40310, 123.98),\n",
       " (43798, 39.7),\n",
       " (44212, 36.01),\n",
       " (10061, 25.0),\n",
       " (10132, 24.75),\n",
       " (10127, 22.39),\n",
       " (10130, 19.9),\n",
       " (10083, 17.5),\n",
       " (41914, 16.98),\n",
       " (10119, 13.91),\n",
       " (41795, 13.75),\n",
       " (41976, 13.62),\n",
       " (10032, 12.78),\n",
       " (10043, 12.75),\n",
       " (10088, 12.33),\n",
       " (10027, 12.28),\n",
       " (10065, 12.28),\n",
       " (42135, 12.03),\n",
       " (10038, 11.82),\n",
       " (10042, 11.27),\n",
       " (41976, 10.85),\n",
       " (10046, 10.65),\n",
       " (10029, 10.15),\n",
       " (44083, 10.05),\n",
       " (42199, 9.97),\n",
       " (10094, 9.95),\n",
       " (10124, 9.95),\n",
       " (40655, 9.8),\n",
       " (40304, 9.68),\n",
       " (44228, 9.62),\n",
       " (10044, 8.97),\n",
       " (40595, 8.93),\n",
       " (10006, 8.84),\n",
       " (41976, 8.61),\n",
       " (42231, 8.38),\n",
       " (43881, 8.09),\n",
       " (10017, 8.06),\n",
       " (40204, 7.93),\n",
       " (10074, 7.72),\n",
       " (41976, 7.35),\n",
       " (44083, 7.26),\n",
       " (10026, 7.17),\n",
       " (10088, 7.16),\n",
       " (41976, 7.14),\n",
       " (10114, 6.83),\n",
       " (10104, 6.81),\n",
       " (41976, 6.77),\n",
       " (40124, 6.63),\n",
       " (40601, 6.41),\n",
       " (40124, 6.4),\n",
       " (42412, 6.08),\n",
       " (43748, 5.99),\n",
       " (43881, 5.95),\n",
       " (10088, 5.81),\n",
       " (10117, 5.7),\n",
       " (10059, 5.58),\n",
       " (40612, 5.45),\n",
       " (10119, 5.25),\n",
       " (40286, 5.25),\n",
       " (42346, 5.07),\n",
       " (41976, 4.92),\n",
       " (42321, 4.83),\n",
       " (10106, 4.78),\n",
       " (40277, 4.69),\n",
       " (10056, 4.56),\n",
       " (10040, 4.19),\n",
       " (43927, 4.1),\n",
       " (10035, 4.09),\n",
       " (41976, 4.08),\n",
       " (43827, 4.07),\n",
       " (42302, 3.91),\n",
       " (41976, 3.9),\n",
       " (10033, 3.52),\n",
       " (41795, 3.31),\n",
       " (42292, 2.99),\n",
       " (41976, 2.96),\n",
       " (41976, 2.94),\n",
       " (41976, 2.92),\n",
       " (44083, 2.91),\n",
       " (40456, 2.88),\n",
       " (42275, 2.87),\n",
       " (41976, 2.86),\n",
       " (41976, 2.75),\n",
       " (43779, 2.75),\n",
       " (41976, 2.73),\n",
       " (10090, 2.19),\n",
       " (44222, 1.25),\n",
       " (42458, 1.0),\n",
       " (43879, 0.98)]"
      ]
     },
     "execution_count": 6,
     "metadata": {},
     "output_type": "execute_result"
    }
   ],
   "source": [
    "%sql SELECT subject_id,ROUND((JULIANDAY(dischtime)-JULIANDAY(admittime)),2) AS HIME \\\n",
    "FROM admissions WHERE hospital_expire_flag =0 ORDER BY HIME DESC;"
   ]
  },
  {
   "cell_type": "markdown",
   "id": "47f7a6ae",
   "metadata": {
    "slideshow": {
     "slide_type": "slide"
    }
   },
   "source": [
    "## The GROUP BY Statement\n",
    "\n",
    "- The AGGREGATE functions become more useful  when used in conjunction with the GROUP BY Statement.\n",
    "- It is used to summarize multiple subsets of the data in the same query."
   ]
  },
  {
   "cell_type": "markdown",
   "id": "54382383",
   "metadata": {
    "slideshow": {
     "slide_type": "slide"
    }
   },
   "source": [
    "The GROUP BY clause comes after the FROM clause of the SELECT statement. In case a statement contains a WHERE clause, the GROUP BY clause must come after the WHERE clause.\n",
    "\n",
    "` SELECT columnname, AGR_FUNCTION1, AGR_FUNCTION2 FROM tablename WHERE conditions_provided GROUP BY columnname;`"
   ]
  },
  {
   "cell_type": "markdown",
   "id": "79812662",
   "metadata": {
    "slideshow": {
     "slide_type": "slide"
    }
   },
   "source": [
    "Let's count the number of male and female in **patients** table."
   ]
  },
  {
   "cell_type": "code",
   "execution_count": 10,
   "id": "d5a61ac9",
   "metadata": {
    "scrolled": true,
    "slideshow": {
     "slide_type": "fragment"
    }
   },
   "outputs": [
    {
     "name": "stdout",
     "output_type": "stream",
     "text": [
      " * sqlite://///Users/leonidas/Desktop/AUTH_HealthData/Scripts/SQL_HSDA/mimic3.db\n",
      "Done.\n"
     ]
    },
    {
     "data": {
      "text/html": [
       "<table>\n",
       "    <tr>\n",
       "        <th>gender</th>\n",
       "        <th>TOTAL_NUMBER</th>\n",
       "    </tr>\n",
       "    <tr>\n",
       "        <td>F</td>\n",
       "        <td>100</td>\n",
       "    </tr>\n",
       "</table>"
      ],
      "text/plain": [
       "[('F', 100)]"
      ]
     },
     "execution_count": 10,
     "metadata": {},
     "output_type": "execute_result"
    }
   ],
   "source": [
    "%sql SELECT gender,COUNT(gender) AS TOTAL_NUMBER FROM patients GROUP BY gender;"
   ]
  },
  {
   "cell_type": "markdown",
   "id": "ad475a20",
   "metadata": {
    "slideshow": {
     "slide_type": "slide"
    }
   },
   "source": [
    "## EXERCISE \n",
    "- Calculate the number of doses per drug from prescriptions table\n",
    "- Order by maximum number of doses\n",
    "- Limit to the first 10"
   ]
  },
  {
   "cell_type": "code",
   "execution_count": null,
   "id": "47bcf7b0",
   "metadata": {
    "slideshow": {
     "slide_type": "subslide"
    }
   },
   "outputs": [],
   "source": [
    "%sql SELECT drug, COUNT(drug) AS number_of_doses FROM prescriptions \\\n",
    "GROUP BY drug ORDER BY number_of_doses DESC LIMIT 10"
   ]
  },
  {
   "cell_type": "markdown",
   "id": "5ac6615c",
   "metadata": {
    "slideshow": {
     "slide_type": "slide"
    }
   },
   "source": [
    "## Grouping by multiple fields\n",
    "Grouping can be extended to multiple fields using a specified order. For example you can identify the numbers of deaths in terms of type of entrance using GROUP BY and including both fields (**admission_type**,**hospital_expire_flag**):"
   ]
  },
  {
   "cell_type": "code",
   "execution_count": null,
   "id": "28507a0c",
   "metadata": {
    "slideshow": {
     "slide_type": "subslide"
    }
   },
   "outputs": [],
   "source": [
    "%sql SELECT admission_type, hospital_expire_flag, COUNT(subject_id) as number \\\n",
    "FROM admissions \\\n",
    "GROUP BY admission_type,hospital_expire_flag;"
   ]
  },
  {
   "cell_type": "markdown",
   "id": "9dd8bf17",
   "metadata": {
    "slideshow": {
     "slide_type": "slide"
    }
   },
   "source": [
    "## The HAVING clause\n",
    "\n",
    "HAVING clause is used to query subsets of aggregated groups (in a GROUP BY clause) just as WHERE is used to query subsets of rows.\n",
    "The expression that follows a HAVING clause has to be applicable to these groups as WHERE is applicable to each row of data in a column.\n",
    "\n",
    "e.g. Let's filter from the exercise before, the drugs that more than 100 of doses where provided to the patients."
   ]
  },
  {
   "cell_type": "code",
   "execution_count": null,
   "id": "b13f3256",
   "metadata": {
    "slideshow": {
     "slide_type": "subslide"
    }
   },
   "outputs": [],
   "source": [
    "%sql SELECT drug, COUNT(drug) AS number_of_doses FROM prescriptions \\\n",
    "GROUP BY drug HAVING number_of_doses>100 ORDER BY 2 DESC;"
   ]
  },
  {
   "cell_type": "markdown",
   "id": "a37b997b",
   "metadata": {
    "slideshow": {
     "slide_type": "slide"
    }
   },
   "source": [
    "## EXERCISE \n",
    "SELECT the patients that have more than one **admissions** in the hospital by descending order."
   ]
  },
  {
   "cell_type": "code",
   "execution_count": null,
   "id": "e1a9eb3e",
   "metadata": {
    "slideshow": {
     "slide_type": "subslide"
    }
   },
   "outputs": [],
   "source": [
    "%sql SELECT subject_id, COUNT(subject_id) AS number_of_admissions FROM admissions \\\n",
    "GROUP BY subject_id HAVING number_of_admissions > 1 \\\n",
    "ORDER BY number_of_admissions DESC;"
   ]
  }
 ],
 "metadata": {
  "celltoolbar": "Slideshow",
  "kernelspec": {
   "display_name": "Python 3",
   "language": "python",
   "name": "python3"
  },
  "language_info": {
   "codemirror_mode": {
    "name": "ipython",
    "version": 3
   },
   "file_extension": ".py",
   "mimetype": "text/x-python",
   "name": "python",
   "nbconvert_exporter": "python",
   "pygments_lexer": "ipython3",
   "version": "3.8.5"
  }
 },
 "nbformat": 4,
 "nbformat_minor": 5
}
