{
 "cells": [
  {
   "cell_type": "markdown",
   "id": "815b6362",
   "metadata": {},
   "source": [
    "## WELCOME TO YOUR FIRST JUPITER NOTEBOOK!!!\n",
    "- Jupyter can integrate instructional text with area that you can run code. In our case SQL. We are taking advantage of it to make lecture more understandable.\n",
    "- Jupiter runs through Python so minor extras in executing the commands are needed.\n"
   ]
  },
  {
   "cell_type": "markdown",
   "id": "c175f7d3",
   "metadata": {},
   "source": [
    "# Basic commands\n",
    "\n",
    "|Pressing button\t| Result |\n",
    "|--------------|----------|\n",
    "|a| Add a cell above|\n",
    "|b|\tAdd a cell below|\t\n",
    "|c|\tCopy a cell|\t\n",
    "|v|\tPaste a cell|\t\n",
    "|x|\tCut a shell|\t\n",
    "|dd| Delete a shell\t\n",
    "|Ctrl +  z|\tUndo|\t\n",
    "|Ctrl + Shift + z|\tRedo|\n",
    "|Ctrl + Enter|\tExecute a command in a cell|\n"
   ]
  },
  {
   "cell_type": "markdown",
   "id": "0e2211d0",
   "metadata": {},
   "source": [
    "# Installing the sql compiler\n",
    "\n",
    "First thing needed is to install the sql compiler. We can do it with the following command:"
   ]
  },
  {
   "cell_type": "code",
   "execution_count": null,
   "id": "6c6a50c1",
   "metadata": {},
   "outputs": [],
   "source": [
    "!pip install ipython-sql"
   ]
  }
 ],
 "metadata": {
  "kernelspec": {
   "display_name": "Python 3",
   "language": "python",
   "name": "python3"
  },
  "language_info": {
   "codemirror_mode": {
    "name": "ipython",
    "version": 3
   },
   "file_extension": ".py",
   "mimetype": "text/x-python",
   "name": "python",
   "nbconvert_exporter": "python",
   "pygments_lexer": "ipython3",
   "version": "3.9.1"
  }
 },
 "nbformat": 4,
 "nbformat_minor": 5
}
